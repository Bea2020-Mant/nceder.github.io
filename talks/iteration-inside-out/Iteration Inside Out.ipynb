{
 "cells": [
  {
   "cell_type": "markdown",
   "metadata": {
    "slideshow": {
     "slide_type": "skip"
    },
    "toc": "true"
   },
   "source": [
    " # Table of Contents\n",
    "<div class=\"toc\" style=\"margin-top: 1em;\"><ul class=\"toc-item\" id=\"toc-level0\"><li><span><a href=\"http://localhost:8888/notebooks/Iteration%20Inside%20Out.ipynb#Iteration-Inside-Out\" data-toc-modified-id=\"Iteration-Inside-Out-1\">Iteration Inside Out</a></span><ul class=\"toc-item\"><li><span><a href=\"http://localhost:8888/notebooks/Iteration%20Inside%20Out.ipynb#Inside-Python's-Iteration-Protocol\" data-toc-modified-id=\"Inside-Python's-Iteration-Protocol-1.1\">Inside Python's Iteration Protocol</a></span></li><li><span><a href=\"http://localhost:8888/notebooks/Iteration%20Inside%20Out.ipynb#&quot;Python's-most-powerful-useful-feature&quot;\" data-toc-modified-id=\"&quot;Python's-most-powerful-useful-feature&quot;-1.2\">\"Python's most powerful useful feature\"</a></span></li><li><span><a href=\"http://localhost:8888/notebooks/Iteration%20Inside%20Out.ipynb#Abstract\" data-toc-modified-id=\"Abstract-1.3\">Abstract</a></span></li><li><span><a href=\"http://localhost:8888/notebooks/Iteration%20Inside%20Out.ipynb#Repetition-with-code-and-data\" data-toc-modified-id=\"Repetition-with-code-and-data-1.4\">Repetition with code and data</a></span><ul class=\"toc-item\"><li><span><a href=\"http://localhost:8888/notebooks/Iteration%20Inside%20Out.ipynb#Repetitive-collections/series-of-data-are-all-around-us\" data-toc-modified-id=\"Repetitive-collections/series-of-data-are-all-around-us-1.4.1\">Repetitive collections/series of data are all around us</a></span></li><li><span><a href=\"http://localhost:8888/notebooks/Iteration%20Inside%20Out.ipynb#They-don't-have-a-lot-in-common\" data-toc-modified-id=\"They-don't-have-a-lot-in-common-1.4.2\">They don't have a lot in common</a></span></li><li><span><a href=\"http://localhost:8888/notebooks/Iteration%20Inside%20Out.ipynb#But...\" data-toc-modified-id=\"But...-1.4.3\">But...</a></span></li><li><span><a href=\"http://localhost:8888/notebooks/Iteration%20Inside%20Out.ipynb#Which-means...\" data-toc-modified-id=\"Which-means...-1.4.4\">Which means...</a></span></li><li><span><a href=\"http://localhost:8888/notebooks/Iteration%20Inside%20Out.ipynb#or-a-comprehension\" data-toc-modified-id=\"or-a-comprehension-1.4.5\">or a comprehension</a></span></li><li><span><a href=\"http://localhost:8888/notebooks/Iteration%20Inside%20Out.ipynb#or-a-generator-expression\" data-toc-modified-id=\"or-a-generator-expression-1.4.6\">or a generator expression</a></span></li></ul></li><li><span><a href=\"http://localhost:8888/notebooks/Iteration%20Inside%20Out.ipynb#Obvious,-right?\" data-toc-modified-id=\"Obvious,-right?-1.5\">Obvious, right?</a></span></li><li><span><a href=\"http://localhost:8888/notebooks/Iteration%20Inside%20Out.ipynb#It-used-to-be-surprising\" data-toc-modified-id=\"It-used-to-be-surprising-1.6\">It <em>used</em> to be surprising</a></span><ul class=\"toc-item\"><li><span><a href=\"http://localhost:8888/notebooks/Iteration%20Inside%20Out.ipynb#Python-and-for-loops\" data-toc-modified-id=\"Python-and-for-loops-1.6.1\">Python and <code>for</code> loops</a></span></li><li><span><a href=\"http://localhost:8888/notebooks/Iteration%20Inside%20Out.ipynb#A-for-loop-(C-style)\" data-toc-modified-id=\"A-for-loop-(C-style)-1.6.2\">A <code>for</code> loop (C style)</a></span></li><li><span><a href=\"http://localhost:8888/notebooks/Iteration%20Inside%20Out.ipynb#Which-is-really-just-short-for:\" data-toc-modified-id=\"Which-is-really-just-short-for:-1.6.3\">Which is really just short for:</a></span></li><li><span><a href=\"http://localhost:8888/notebooks/Iteration%20Inside%20Out.ipynb#Drawbacks\" data-toc-modified-id=\"Drawbacks-1.6.4\">Drawbacks</a></span></li><li><span><a href=\"http://localhost:8888/notebooks/Iteration%20Inside%20Out.ipynb#Note:-These-days-many-languages-have-a-similar-for-loop\" data-toc-modified-id=\"Note:-These-days-many-languages-have-a-similar-for-loop-1.6.5\">Note: These days many languages have a similar <code>for</code> loop</a></span></li><li><span><a href=\"http://localhost:8888/notebooks/Iteration%20Inside%20Out.ipynb#Something-similar-in-Python\" data-toc-modified-id=\"Something-similar-in-Python-1.6.6\">Something similar in Python</a></span></li><li><span><a href=\"http://localhost:8888/notebooks/Iteration%20Inside%20Out.ipynb#The-Pythonic-for-Loop\" data-toc-modified-id=\"The-Pythonic-for-Loop-1.6.7\">The Pythonic <code>for</code> Loop</a></span></li><li><span><a href=\"http://localhost:8888/notebooks/Iteration%20Inside%20Out.ipynb#And-it-works-the-same-for-different-types\" data-toc-modified-id=\"And-it-works-the-same-for-different-types-1.6.8\">And it works the same for different types</a></span></li></ul></li><li><span><a href=\"http://localhost:8888/notebooks/Iteration%20Inside%20Out.ipynb#How-does-that-work?\" data-toc-modified-id=\"How-does-that-work?-1.7\">How does that work?</a></span></li><li><span><a href=\"http://localhost:8888/notebooks/Iteration%20Inside%20Out.ipynb#Iteration-protocol\" data-toc-modified-id=\"Iteration-protocol-1.8\">Iteration protocol</a></span><ul class=\"toc-item\"><li><span><a href=\"http://localhost:8888/notebooks/Iteration%20Inside%20Out.ipynb#Iteration-Protocol:\" data-toc-modified-id=\"Iteration-Protocol:-1.8.1\">Iteration Protocol:</a></span></li></ul></li><li><span><a href=\"http://localhost:8888/notebooks/Iteration%20Inside%20Out.ipynb#iterable\" data-toc-modified-id=\"iterable-1.9\">iterable</a></span></li><li><span><a href=\"http://localhost:8888/notebooks/Iteration%20Inside%20Out.ipynb#Iterable\" data-toc-modified-id=\"Iterable-1.10\">Iterable</a></span><ul class=\"toc-item\"><li><span><a href=\"http://localhost:8888/notebooks/Iteration%20Inside%20Out.ipynb#An-iterable...\" data-toc-modified-id=\"An-iterable...-1.10.1\">An iterable...</a></span><ul class=\"toc-item\"><li><span><a href=\"http://localhost:8888/notebooks/Iteration%20Inside%20Out.ipynb#There-are-2-ways-an-object-can-return-a-iterator---it-can\" data-toc-modified-id=\"There-are-2-ways-an-object-can-return-a-iterator---it-can-1.10.1.1\">There are 2 ways an object can return a iterator - it can</a></span></li></ul></li><li><span><a href=\"http://localhost:8888/notebooks/Iteration%20Inside%20Out.ipynb#Repetitive-collections/series-of-data-Iterables\" data-toc-modified-id=\"Repetitive-collections/series-of-data-Iterables-1.10.2\"><del>Repetitive collections/series of data</del> Iterables</a></span></li><li><span><a href=\"http://localhost:8888/notebooks/Iteration%20Inside%20Out.ipynb#Is-it-an-iterable?\" data-toc-modified-id=\"Is-it-an-iterable?-1.10.3\">Is it an iterable?</a></span></li><li><span><a href=\"http://localhost:8888/notebooks/Iteration%20Inside%20Out.ipynb#EAFP---Easier-to-Ask-for-Forgiveness-than-Permission\" data-toc-modified-id=\"EAFP---Easier-to-Ask-for-Forgiveness-than-Permission-1.10.4\">EAFP - Easier to Ask for Forgiveness than Permission</a></span></li></ul></li><li><span><a href=\"http://localhost:8888/notebooks/Iteration%20Inside%20Out.ipynb#Let’s-make-an-iterable----Repeater\" data-toc-modified-id=\"Let’s-make-an-iterable----Repeater-1.11\">Let’s make an iterable -  <code>Repeater</code></a></span><ul class=\"toc-item\"><li><span><a href=\"http://localhost:8888/notebooks/Iteration%20Inside%20Out.ipynb#As-an-iterable,-using-__getitem()__\" data-toc-modified-id=\"As-an-iterable,-using-__getitem()__-1.11.1\">As an iterable, using <code>__getitem()__</code></a></span></li><li><span><a href=\"http://localhost:8888/notebooks/Iteration%20Inside%20Out.ipynb#Behind-the-scenes\" data-toc-modified-id=\"Behind-the-scenes-1.11.2\">Behind the scenes</a></span></li><li><span><a href=\"http://localhost:8888/notebooks/Iteration%20Inside%20Out.ipynb#Yes,-it's-really-that-simple...\" data-toc-modified-id=\"Yes,-it's-really-that-simple...-1.11.3\">Yes, it's really that simple...</a></span></li></ul></li><li><span><a href=\"http://localhost:8888/notebooks/Iteration%20Inside%20Out.ipynb#But...-what-IS-an-Iterator?\" data-toc-modified-id=\"But...-what-IS-an-Iterator?-1.12\">But... what IS an Iterator?</a></span><ul class=\"toc-item\"><li><span><a href=\"http://localhost:8888/notebooks/Iteration%20Inside%20Out.ipynb#Iterator\" data-toc-modified-id=\"Iterator-1.12.1\">Iterator</a></span></li><li><span><a href=\"http://localhost:8888/notebooks/Iteration%20Inside%20Out.ipynb#iterator\" data-toc-modified-id=\"iterator-1.12.2\">iterator</a></span></li><li><span><a href=\"http://localhost:8888/notebooks/Iteration%20Inside%20Out.ipynb#Let’s-make-a-iterator---RepeatIterator\" data-toc-modified-id=\"Let’s-make-a-iterator---RepeatIterator-1.12.3\">Let’s make a iterator - <code>RepeatIterator</code></a></span></li><li><span><a href=\"http://localhost:8888/notebooks/Iteration%20Inside%20Out.ipynb#So-making-an-iterator-is-pretty-easy,-too...“\" data-toc-modified-id=\"So-making-an-iterator-is-pretty-easy,-too...“-1.12.4\">So making an iterator is pretty easy, too...“</a></span></li><li><span><a href=\"http://localhost:8888/notebooks/Iteration%20Inside%20Out.ipynb#(but-don't-do-it)\" data-toc-modified-id=\"(but-don't-do-it)-1.12.5\">(but don't do it)</a></span></li></ul></li><li><span><a href=\"http://localhost:8888/notebooks/Iteration%20Inside%20Out.ipynb#Making-an-iterator-with-a-generator-function\" data-toc-modified-id=\"Making-an-iterator-with-a-generator-function-1.13\">Making an iterator with a generator function</a></span></li><li><span><a href=\"http://localhost:8888/notebooks/Iteration%20Inside%20Out.ipynb#Iteration-in-Python\" data-toc-modified-id=\"Iteration-in-Python-1.14\">Iteration in Python</a></span></li><li><span><a href=\"http://localhost:8888/notebooks/Iteration%20Inside%20Out.ipynb#Thank-you!\" data-toc-modified-id=\"Thank-you!-1.15\">Thank you!</a></span><ul class=\"toc-item\"><li><span><a href=\"http://localhost:8888/notebooks/Iteration%20Inside%20Out.ipynb#?'s\" data-toc-modified-id=\"?'s-1.15.1\">?'s</a></span></li></ul></li><li><span><a href=\"http://localhost:8888/notebooks/Iteration%20Inside%20Out.ipynb#Resources\" data-toc-modified-id=\"Resources-1.16\">Resources</a></span></li></ul></li></ul></div>"
   ]
  },
  {
   "cell_type": "markdown",
   "metadata": {
    "nbpresent": {
     "id": "ce2bdbfa-efaa-47f1-94f6-fa04558f09fc"
    },
    "slideshow": {
     "slide_type": "slide"
    }
   },
   "source": [
    "<link href=\"https://fonts.googleapis.com/css?family=Signika\" rel=\"stylesheet\">\n",
    "\n",
    "# Iteration Inside Out\n",
    "\n",
    "## Inside Python's Iteration Protocol\n",
    "\n",
    "\n",
    "**Naomi Ceder (@naomiceder)**\n",
    "\n",
    "- **Chair, Python Software Foundation**\n",
    "- **Quick Python Book, 3rd ed**\n",
    "- **Dick Blick Art Materials**         \n"
   ]
  },
  {
   "cell_type": "markdown",
   "metadata": {
    "slideshow": {
     "slide_type": "slide"
    }
   },
   "source": [
    "## \"Python's most powerful useful feature\"\n",
    "\n",
    "-- Dave Beazley, \"[Iterations of Evolution: The Unauthorized Biography of the For-Loop](https://www.youtube.com/watch?v=2AXuhgid7E4)\""
   ]
  },
  {
   "cell_type": "markdown",
   "metadata": {
    "slideshow": {
     "slide_type": "skip"
    }
   },
   "source": [
    "## Abstract\n",
    "\n",
    "Using for loops and list comprehensions in Python is basic and quite common, right? But how does iteration in Python actually work “under the hood”? The words “iterator” and “iterable” each occur over 500 times in the Python documentation, but what does an iterator actually do, as opposed to an iterable? And how do they do it? Learn the details as we turn the iteration protocol inside out, with live coded demonstrations along the way.\n",
    "\n",
    "This talk will start from the way Python iterates of over a sequence, in comparison with iterating by index, like C. The key point of iterating over a sequence is that something needs to track which item in the sequence is next, which is something that Python’s iteration protocol manages.\n",
    "\n",
    "The iterable section will demonstrate creating a simple object that returns items by index (e.g., a fibonacci series), showing that getitem is really all you need for an iterable, since an iterator is created for such objects when iterated upon. BUT, this doesn’t answer the question of how Python keeps track of which item is next.\n",
    "\n",
    "The iterator section answers that question by converting the iterable just created to an iterator - adding iter and next methods and showing how the iterator saves state and essentially drives the iteration protocol.\n",
    "\n",
    "Having an accurate understanding of iteration protocol will help developing Pythonistas reason better about both iterating over existing objects and creating their own iterables and iterators.\n"
   ]
  },
  {
   "cell_type": "markdown",
   "metadata": {
    "slideshow": {
     "slide_type": "skip"
    }
   },
   "source": [
    "## Repetition with code and data"
   ]
  },
  {
   "cell_type": "markdown",
   "metadata": {
    "slideshow": {
     "slide_type": "subslide"
    }
   },
   "source": [
    "### Repetitive collections/series of data are all around us\n",
    "\n",
    "**Consider the following:**\n",
    "* temperature readings for a month\n",
    "* dictionary keys mapping member ID's to members\n",
    "* a CSV file of a million products\n",
    "* the text of *Moby Dick*\n",
    "* a result set for a database query for yesterday's sales"
   ]
  },
  {
   "cell_type": "markdown",
   "metadata": {
    "slideshow": {
     "slide_type": "subslide"
    }
   },
   "source": [
    "###  They don't have a lot in common\n",
    " * different types of containers/series\n",
    " * different types of items\n",
    "\n",
    "### But... \n",
    "\n",
    "All are series of items where we might want to look at one item after another.\n",
    "\n"
   ]
  },
  {
   "cell_type": "markdown",
   "metadata": {
    "slideshow": {
     "slide_type": "subslide"
    }
   },
   "source": [
    "### Which means... \n",
    "\n",
    "In Python we'd normally use a `for` loop to access each element ... \n",
    "\n",
    "```\n",
    "for temp in temp_readings:\n",
    "    print(temp)\n",
    "```"
   ]
  },
  {
   "cell_type": "markdown",
   "metadata": {
    "slideshow": {
     "slide_type": "skip"
    }
   },
   "source": [
    "### or a comprehension\n",
    "```\n",
    "all_ids = [cust_id for cust_id in customers]\n",
    "\n",
    "```"
   ]
  },
  {
   "cell_type": "markdown",
   "metadata": {
    "slideshow": {
     "slide_type": "skip"
    }
   },
   "source": [
    "### or a generator expression\n",
    "\n",
    "```\n",
    "product_gen = \n",
    "    (product for product in\n",
    "    csv.reader(open(\"product_file.csv\")))\n",
    "```"
   ]
  },
  {
   "cell_type": "markdown",
   "metadata": {
    "slideshow": {
     "slide_type": "subslide"
    }
   },
   "source": [
    "## Obvious, right?\n",
    "\n",
    "It wasn't always so obvious..."
   ]
  },
  {
   "cell_type": "markdown",
   "metadata": {
    "slideshow": {
     "slide_type": "slide"
    }
   },
   "source": [
    "## It *used* to be surprising\n",
    "\n",
    "### Python and `for` loops\n",
    "\n",
    "The `for` statement in Python differs a bit \n",
    "from what you may be\n",
    "used to in C or Pascal.  Rather than always iterating over an\n",
    "arithmetic progression of numbers (like in Pascal), or leaving the user\n",
    "completely free in the iteration test and step (as C), Python's for \n",
    "statement iterates over the items of any sequence (e.g., a list\n",
    "or a string), in the order that they appear in the sequence.\n",
    "\n",
    "-- Python V 1.1 Docs, 1994"
   ]
  },
  {
   "cell_type": "markdown",
   "metadata": {
    "slideshow": {
     "slide_type": "subslide"
    }
   },
   "source": [
    "### A `for` loop (C style)\n",
    "```\n",
    "  for (int i=0; i < list_len; i++){\n",
    "    printf(\"%d\\n\", a_list[i]);\n",
    "  }\n",
    "```"
   ]
  },
  {
   "cell_type": "markdown",
   "metadata": {
    "slideshow": {
     "slide_type": "fragment"
    }
   },
   "source": [
    "### Which is really just short for:\n",
    "```\n",
    "  int i = 0;\n",
    "  while (i < list_len){\n",
    "    printf(\"%d\\n\", a_list[i]);\n",
    "    i++;\n",
    "  }\n",
    "```"
   ]
  },
  {
   "cell_type": "markdown",
   "metadata": {
    "slideshow": {
     "slide_type": "skip"
    }
   },
   "source": [
    "### Drawbacks\n",
    "\n",
    "* Doesn't work so well with files or streams\n",
    "* Requires index access\n",
    "* Only slightly less bug-prone than the `while` version"
   ]
  },
  {
   "cell_type": "markdown",
   "metadata": {
    "slideshow": {
     "slide_type": "skip"
    }
   },
   "source": [
    "### Note: These days many languages have a similar `for` loop\n",
    "\n",
    "* C (macro)\n",
    "* C++  (since C++11, ~2012)\n",
    "* Javascript (sort of)\n",
    "* Java (since Java 5, ~2004)\n",
    "* Go\n",
    "* Rust "
   ]
  },
  {
   "cell_type": "markdown",
   "metadata": {
    "slideshow": {
     "slide_type": "subslide"
    }
   },
   "source": [
    "### Something similar in Python"
   ]
  },
  {
   "cell_type": "code",
   "execution_count": 1,
   "metadata": {
    "slideshow": {
     "slide_type": "fragment"
    }
   },
   "outputs": [
    {
     "name": "stdout",
     "output_type": "stream",
     "text": [
      "1\n",
      "2\n",
      "3\n",
      "4\n"
     ]
    }
   ],
   "source": [
    "# for loop  (C style)\n",
    "a_list = [1, 2, 3, 4]\n",
    "\n",
    "for i in range(len(a_list)):\n",
    "    print(a_list[i])"
   ]
  },
  {
   "cell_type": "markdown",
   "metadata": {
    "slideshow": {
     "slide_type": "fragment"
    }
   },
   "source": [
    "Except it's **not** the same - Python is generating a range object (another series) and iterating over it to get the index values"
   ]
  },
  {
   "cell_type": "markdown",
   "metadata": {
    "slideshow": {
     "slide_type": "subslide"
    }
   },
   "source": [
    "### The Pythonic `for` Loop"
   ]
  },
  {
   "cell_type": "code",
   "execution_count": 2,
   "metadata": {
    "slideshow": {
     "slide_type": "fragment"
    }
   },
   "outputs": [
    {
     "name": "stdout",
     "output_type": "stream",
     "text": [
      "1\n",
      "2\n",
      "3\n",
      "4\n"
     ]
    }
   ],
   "source": [
    "# for loop (Python style)\n",
    "a_list = [1, 2, 3, 4]\n",
    "\n",
    "for item in a_list:\n",
    "    print(item)"
   ]
  },
  {
   "cell_type": "markdown",
   "metadata": {
    "slideshow": {
     "slide_type": "skip"
    }
   },
   "source": [
    "### And it works the same for different types\n",
    "* `for key in a_dictionary:`\n",
    "* `for char in a_string:`\n",
    "* `for record in query_results:`\n",
    "* `for line in a_file:`\n",
    "\n",
    "etc..."
   ]
  },
  {
   "cell_type": "markdown",
   "metadata": {
    "slideshow": {
     "slide_type": "slide"
    }
   },
   "source": [
    "## How does that work?\n",
    "\n",
    "* **How does a `for` loop know the “next” item?**\n",
    "* **How can `for` loops use so many different types?**\n",
    "* **What makes an object “work” in a `for` loop?**"
   ]
  },
  {
   "cell_type": "markdown",
   "metadata": {
    "slideshow": {
     "slide_type": "subslide"
    }
   },
   "source": [
    "## Iteration protocol\n",
    "\n",
    "* iteration in Python relies on a **protocol**, not types (from Python 2.2)\n",
    "* It's a good example of Python's “duck typing” - anything that follows the protocol can be iterated over"
   ]
  },
  {
   "cell_type": "markdown",
   "metadata": {
    "slideshow": {
     "slide_type": "subslide"
    }
   },
   "source": [
    "### Iteration Protocol: \n",
    "* for iteration you need an **iterable** object\n",
    "* and an **iterator** (which Python usually handles for you)"
   ]
  },
  {
   "cell_type": "markdown",
   "metadata": {
    "slideshow": {
     "slide_type": "skip"
    }
   },
   "source": [
    "## iterable\n",
    "\n",
    "An object capable of returning its members **one at a time.** Examples of iterables include **all sequence types** (such as `list`, `str`, and `tuple`) and **some non-sequence types** like `dict`, file objects, and objects of any **classes you define** with an **`__iter__()`** method or with a **`__getitem__()`** method that implements Sequence semantics."
   ]
  },
  {
   "cell_type": "markdown",
   "metadata": {
    "slideshow": {
     "slide_type": "skip"
    }
   },
   "source": [
    "Iterables can be used in a `for` loop and in many other places where a sequence is needed (`zip()`, `map()`, …). When an iterable object is passed as an argument to the built-in function `iter()`, it returns an **iterator** for the object. This iterator is good for **one pass** over the set of values. When using iterables, it is usually **not necessary to call `iter()`** or deal with iterator objects yourself. The `for` statement **does that automatically for you,** creating a **temporary unnamed variable** to hold the iterator for the duration of the loop. *See also iterator, sequence, and generator.*\n",
    "\n",
    "--Python glossary"
   ]
  },
  {
   "cell_type": "markdown",
   "metadata": {
    "slideshow": {
     "slide_type": "slide"
    }
   },
   "source": [
    "## Iterable\n",
    "* returns members one at a time\n",
    "* e.g, `list`, `str`, `tuple` (sequence types)\n",
    "* any class with `__iter__()` method that returns iterator\n",
    "* **or** any class with `__getitem__()` with sequence semantics\n",
    "* `for` statement creates an unnamed iterator from iterable automatically"
   ]
  },
  {
   "cell_type": "markdown",
   "metadata": {
    "slideshow": {
     "slide_type": "subslide"
    }
   },
   "source": [
    "### An iterable...\n",
    "\n",
    "must return an iterator when the `iter()` function is called on it.\n",
    "\n",
    "#### There are 2 ways an object can return a iterator - it can\n",
    "* have a **`__getitem__()`** method with Sequence semantics - i.e., access items by integer index in [ ].\n",
    "* implement an **`__iter__()`** method that returns an iterator (more on this soon)\n"
   ]
  },
  {
   "cell_type": "markdown",
   "metadata": {
    "slideshow": {
     "slide_type": "skip"
    }
   },
   "source": [
    "### ~~Repetitive collections/series of data~~ Iterables\n",
    "\n",
    "* lists (arrays), tuples\n",
    "* strings\n",
    "* dictionary keys/items\n",
    "* sets\n",
    "* files\n",
    "* database query results\n",
    "* etc"
   ]
  },
  {
   "cell_type": "markdown",
   "metadata": {
    "slideshow": {
     "slide_type": "slide"
    }
   },
   "source": [
    "### Is it an iterable?\n",
    "* Does it have an `__iter__()` method?"
   ]
  },
  {
   "cell_type": "code",
   "execution_count": 3,
   "metadata": {
    "slideshow": {
     "slide_type": "fragment"
    }
   },
   "outputs": [
    {
     "data": {
      "text/plain": [
       "True"
      ]
     },
     "execution_count": 3,
     "metadata": {},
     "output_type": "execute_result"
    }
   ],
   "source": [
    "# check with hasattr\n",
    "a_list = [1, 2, 3, 4]\n",
    "\n",
    "hasattr(a_list, \"__iter__\")"
   ]
  },
  {
   "cell_type": "markdown",
   "metadata": {
    "slideshow": {
     "slide_type": "fragment"
    }
   },
   "source": [
    "* Does it have `__getitem__()` that is sequence compliant? (harder to decide)"
   ]
  },
  {
   "cell_type": "markdown",
   "metadata": {
    "slideshow": {
     "slide_type": "subslide"
    }
   },
   "source": [
    "### EAFP - Easier to Ask for Forgiveness than Permission\n",
    "\n",
    "i.e, does calling `iter()` on it return an iterator? or an exception?"
   ]
  },
  {
   "cell_type": "code",
   "execution_count": null,
   "metadata": {
    "slideshow": {
     "slide_type": "skip"
    }
   },
   "outputs": [],
   "source": [
    "is_it_iterable = [\"asd\", 1,  open(\"Iteration Inside Out.ipynb\"), {\"one\":1, \"two\":2}]\n",
    "\n",
    "for item in is_it_iterable:\n",
    "\n",
    "    try:\n",
    "        an_iterator = iter(item)\n",
    "    except TypeError as e:\n",
    "        print(f\"Not Iterable: {e}\\n\")\n",
    "    else:\n",
    "        print(f\"Iterable: {an_iterator} is type({an_iterator})\\n\")"
   ]
  },
  {
   "cell_type": "markdown",
   "metadata": {
    "slideshow": {
     "slide_type": "slide"
    }
   },
   "source": [
    "## Let’s make an iterable -  `Repeater`\n",
    "\n",
    "A object that can be iterated over and returns the same value for the specified number of times.\n",
    "\n",
    "```\n",
    "repeat = Repeater(\"hello\", 4)\n",
    "\n",
    "for i in repeat:\n",
    "    print(i)\n",
    "\n",
    "hello\n",
    "hello\n",
    "hello\n",
    "hello\n",
    "```"
   ]
  },
  {
   "cell_type": "markdown",
   "metadata": {
    "slideshow": {
     "slide_type": "subslide"
    }
   },
   "source": [
    "### As an iterable, using `__getitem()__`"
   ]
  },
  {
   "cell_type": "code",
   "execution_count": 4,
   "metadata": {
    "slideshow": {
     "slide_type": "fragment"
    }
   },
   "outputs": [],
   "source": [
    "class Repeater:\n",
    "    def __init__(self, value, limit):\n",
    "        self.value = value\n",
    "        self.limit = limit\n",
    "        \n",
    "    def __getitem__(self, index):\n",
    "        if 0 <= index < self.limit:\n",
    "            return self.value\n",
    "        else:\n",
    "            raise IndexError\n",
    "            \n",
    "    \n",
    "    "
   ]
  },
  {
   "cell_type": "code",
   "execution_count": 5,
   "metadata": {
    "slideshow": {
     "slide_type": "subslide"
    }
   },
   "outputs": [
    {
     "data": {
      "text/plain": [
       "False"
      ]
     },
     "execution_count": 5,
     "metadata": {},
     "output_type": "execute_result"
    }
   ],
   "source": [
    "repeat = Repeater(\"hello\", 4)\n",
    "\n",
    "# does it have an __iter__ method?\n",
    "hasattr(repeat, \"__iter__\")"
   ]
  },
  {
   "cell_type": "code",
   "execution_count": 6,
   "metadata": {
    "slideshow": {
     "slide_type": "fragment"
    }
   },
   "outputs": [
    {
     "data": {
      "text/plain": [
       "'hello'"
      ]
     },
     "execution_count": 6,
     "metadata": {},
     "output_type": "execute_result"
    }
   ],
   "source": [
    "# __getitem__ with sequence semantics?\n",
    "\n",
    "repeat[0]"
   ]
  },
  {
   "cell_type": "code",
   "execution_count": 7,
   "metadata": {
    "slideshow": {
     "slide_type": "fragment"
    }
   },
   "outputs": [
    {
     "data": {
      "text/plain": [
       "<iterator at 0x7fda6c4f99e8>"
      ]
     },
     "execution_count": 7,
     "metadata": {},
     "output_type": "execute_result"
    }
   ],
   "source": [
    "# can the iter() function return an iterator?\n",
    "\n",
    "iter(repeat)"
   ]
  },
  {
   "cell_type": "code",
   "execution_count": 10,
   "metadata": {
    "slideshow": {
     "slide_type": "subslide"
    }
   },
   "outputs": [
    {
     "name": "stdout",
     "output_type": "stream",
     "text": [
      "hello\n",
      "hello\n",
      "hello\n",
      "hello\n"
     ]
    }
   ],
   "source": [
    "# for loop\n",
    "\n",
    "for item in repeat:\n",
    "    print(item)"
   ]
  },
  {
   "cell_type": "code",
   "execution_count": 11,
   "metadata": {
    "scrolled": true,
    "slideshow": {
     "slide_type": "fragment"
    }
   },
   "outputs": [
    {
     "data": {
      "text/plain": [
       "['hello', 'hello', 'hello', 'hello']"
      ]
     },
     "execution_count": 11,
     "metadata": {},
     "output_type": "execute_result"
    }
   ],
   "source": [
    "# list comprehension\n",
    "\n",
    "[x for x in repeat]"
   ]
  },
  {
   "cell_type": "markdown",
   "metadata": {
    "slideshow": {
     "slide_type": "slide"
    }
   },
   "source": [
    "### Behind the scenes\n",
    "\n",
    "* an iterator is being created from the `repeat` object\n",
    "* it can return the items using integer indexes starting from 0\n",
    "* it continues until an IndexError is thrown\n",
    "* each time it is iterated on a new iterator is created and it starts from the beginning"
   ]
  },
  {
   "cell_type": "code",
   "execution_count": null,
   "metadata": {
    "slideshow": {
     "slide_type": "subslide"
    }
   },
   "outputs": [],
   "source": [
    "class Repeater:\n",
    "    def __init__(self, value, limit):\n",
    "        self.value = value\n",
    "        self.limit = limit\n",
    "        \n",
    "    def __getitem__(self, index):      # The bit we need for an iterable\n",
    "        if 0 <= index < self.limit:\n",
    "            return self.value\n",
    "        else:\n",
    "            raise IndexError      # only needed if we want iteration to end"
   ]
  },
  {
   "cell_type": "markdown",
   "metadata": {
    "slideshow": {
     "slide_type": "subslide"
    }
   },
   "source": [
    "### Yes, it's really that simple...\n",
    "\n",
    "* ONLY the `__getitem__()` method was needed\n",
    "* an IndexError is needed to end iteration\n"
   ]
  },
  {
   "cell_type": "markdown",
   "metadata": {
    "slideshow": {
     "slide_type": "slide"
    }
   },
   "source": [
    "## But... what IS an Iterator?\n",
    "\n",
    "The Python `for` loop relies on being able to get a **next** item, but...\n",
    "\n",
    "* the **iterable** doesn't know which item is next\n",
    "* **the loop itself doesn't care** exactly where in the series that item is (or what type it is)\n",
    "* the loop relies on the **iterator** to keep track of what's next\n",
    "* any object that can do that can be iterated over, i.e., it is an **iterator**\n",
    "\n",
    "\n",
    "An **iterator** has a `__next__()` method (in Python 2 `next()`) that tracks and returns the next item in the series, and you use the `next()` function to return the next item for iteration."
   ]
  },
  {
   "cell_type": "markdown",
   "metadata": {
    "slideshow": {
     "slide_type": "subslide"
    }
   },
   "source": [
    "### Iterator\n",
    "* has `__next__()` method\n",
    "* calls to `__next__()` method (`next()` function) return successive items\n",
    "* raises `StopIteration` when no more data\n",
    "* further calls just raise `StopIteration`\n",
    "* must have `__iter__()` method, which returns self\n",
    "* iterators are therefore iterables\n",
    "* once exhausted they do not “refresh”"
   ]
  },
  {
   "cell_type": "markdown",
   "metadata": {
    "slideshow": {
     "slide_type": "skip"
    }
   },
   "source": [
    "### iterator\n",
    "\n",
    "An object representing **a stream of data**. Repeated **calls to the iterator’s `__next__()`** method (or passing it to the built-in function `next()`) **return successive items** in the stream. When **no more data are available a StopIteration exception is raised** instead. At this point, the iterator object is exhausted and any further calls to its `__next__()` method just raise StopIteration again... "
   ]
  },
  {
   "cell_type": "markdown",
   "metadata": {
    "slideshow": {
     "slide_type": "skip"
    }
   },
   "source": [
    "...Iterators are required to have an `__iter__()` method that returns the iterator object itself so **every iterator is also iterable** and may be used in most places where other iterables are accepted. One notable exception is code which attempts multiple iteration passes. **A container object (such as a list) produces a fresh new iterator each time** you pass it to the `iter()` function or use it in a for loop. Attempting this **with an iterator will just return the same exhausted iterator object** used in the previous iteration pass, making it appear like an empty container.\n",
    "\n",
    "--Python glossary"
   ]
  },
  {
   "cell_type": "markdown",
   "metadata": {
    "slideshow": {
     "slide_type": "slide"
    }
   },
   "source": [
    "### Let’s make a iterator - `RepeatIterator`\n",
    "\n",
    "* implement `__next__()` method to return next item\n",
    "* implement `__iter__()` method to return itself"
   ]
  },
  {
   "cell_type": "code",
   "execution_count": 17,
   "metadata": {
    "slideshow": {
     "slide_type": "subslide"
    }
   },
   "outputs": [],
   "source": [
    "class RepeatIterator:\n",
    "    def __init__(self, value, limit):\n",
    "        self.value = value\n",
    "        self.limit = limit\n",
    "        self.count = 0\n",
    "        \n",
    "    def __next__(self):  \n",
    "        if self.count < self.limit:\n",
    "            self.count += 1\n",
    "            return self.value\n",
    "        else:\n",
    "            raise StopIteration\n",
    "            \n",
    "    def __iter__(self):\n",
    "        return self\n",
    "\n"
   ]
  },
  {
   "cell_type": "code",
   "execution_count": null,
   "metadata": {
    "slideshow": {
     "slide_type": "skip"
    }
   },
   "outputs": [],
   "source": [
    "repeat_iter = RepeatIterator(\"Hi\", 4)\n",
    "\n",
    "# __getitem__ with sequence semantics?\n"
   ]
  },
  {
   "cell_type": "code",
   "execution_count": 23,
   "metadata": {
    "slideshow": {
     "slide_type": "subslide"
    }
   },
   "outputs": [
    {
     "data": {
      "text/plain": [
       "True"
      ]
     },
     "execution_count": 23,
     "metadata": {},
     "output_type": "execute_result"
    }
   ],
   "source": [
    " repeat_iter = RepeatIterator(\"Hi\", 4) \n",
    "# does it have an __iter__ method?\n",
    " hasattr(repeat_iter, \"__iter__\")"
   ]
  },
  {
   "cell_type": "code",
   "execution_count": 15,
   "metadata": {
    "scrolled": true,
    "slideshow": {
     "slide_type": "fragment"
    }
   },
   "outputs": [
    {
     "data": {
      "text/plain": [
       "'Hi'"
      ]
     },
     "execution_count": 15,
     "metadata": {},
     "output_type": "execute_result"
    }
   ],
   "source": [
    "# does it return next item using next() function?\n",
    "\n",
    "next(repeat_iter)"
   ]
  },
  {
   "cell_type": "code",
   "execution_count": 24,
   "metadata": {
    "slideshow": {
     "slide_type": "subslide"
    }
   },
   "outputs": [
    {
     "name": "stdout",
     "output_type": "stream",
     "text": [
      "<__main__.RepeatIterator object at 0x7fda6c4a4a20>\n",
      "<__main__.RepeatIterator object at 0x7fda6c4a4a20>\n"
     ]
    }
   ],
   "source": [
    "# calling iter on it, returns object itself\n",
    "print(repeat_iter)\n",
    "\n",
    "repeat_iter_iter = iter(repeat_iter)\n",
    "print(repeat_iter_iter)"
   ]
  },
  {
   "cell_type": "code",
   "execution_count": null,
   "metadata": {
    "slideshow": {
     "slide_type": "skip"
    }
   },
   "outputs": [],
   "source": [
    "# calling iter() on iterable always returns new iterator\n",
    "print(id(repeat))\n",
    "old_repeat_iter = iter(repeat)\n",
    "print(id(old_repeat_iter))"
   ]
  },
  {
   "cell_type": "code",
   "execution_count": 25,
   "metadata": {
    "scrolled": true,
    "slideshow": {
     "slide_type": "subslide"
    }
   },
   "outputs": [
    {
     "name": "stdout",
     "output_type": "stream",
     "text": [
      "Hi\n",
      "Hi\n",
      "Hi\n",
      "Hi\n"
     ]
    }
   ],
   "source": [
    "# after 1 next(), how many repetitions left?\n",
    "\n",
    "\n",
    "for item in repeat_iter:\n",
    "    print(item) \n"
   ]
  },
  {
   "cell_type": "code",
   "execution_count": 26,
   "metadata": {
    "slideshow": {
     "slide_type": "subslide"
    }
   },
   "outputs": [],
   "source": [
    "# Let's loop again\n",
    "\n",
    "for item in repeat_iter:\n",
    "    print(item)\n"
   ]
  },
  {
   "cell_type": "code",
   "execution_count": 27,
   "metadata": {
    "slideshow": {
     "slide_type": "subslide"
    }
   },
   "outputs": [
    {
     "ename": "StopIteration",
     "evalue": "",
     "output_type": "error",
     "traceback": [
      "\u001b[0;31m---------------------------------------------------------------------------\u001b[0m",
      "\u001b[0;31mStopIteration\u001b[0m                             Traceback (most recent call last)",
      "\u001b[0;32m<ipython-input-27-ef48f653ec79>\u001b[0m in \u001b[0;36m<module>\u001b[0;34m()\u001b[0m\n\u001b[1;32m      1\u001b[0m \u001b[0;31m# one more next?\u001b[0m\u001b[0;34m\u001b[0m\u001b[0;34m\u001b[0m\u001b[0m\n\u001b[0;32m----> 2\u001b[0;31m \u001b[0mnext\u001b[0m\u001b[0;34m(\u001b[0m\u001b[0mrepeat_iter\u001b[0m\u001b[0;34m)\u001b[0m\u001b[0;34m\u001b[0m\u001b[0m\n\u001b[0m",
      "\u001b[0;32m<ipython-input-17-f8683e3a96ec>\u001b[0m in \u001b[0;36m__next__\u001b[0;34m(self)\u001b[0m\n\u001b[1;32m     10\u001b[0m             \u001b[0;32mreturn\u001b[0m \u001b[0mself\u001b[0m\u001b[0;34m.\u001b[0m\u001b[0mvalue\u001b[0m\u001b[0;34m\u001b[0m\u001b[0m\n\u001b[1;32m     11\u001b[0m         \u001b[0;32melse\u001b[0m\u001b[0;34m:\u001b[0m\u001b[0;34m\u001b[0m\u001b[0m\n\u001b[0;32m---> 12\u001b[0;31m             \u001b[0;32mraise\u001b[0m \u001b[0mStopIteration\u001b[0m\u001b[0;34m\u001b[0m\u001b[0m\n\u001b[0m\u001b[1;32m     13\u001b[0m \u001b[0;34m\u001b[0m\u001b[0m\n\u001b[1;32m     14\u001b[0m     \u001b[0;32mdef\u001b[0m \u001b[0m__iter__\u001b[0m\u001b[0;34m(\u001b[0m\u001b[0mself\u001b[0m\u001b[0;34m)\u001b[0m\u001b[0;34m:\u001b[0m\u001b[0;34m\u001b[0m\u001b[0m\n",
      "\u001b[0;31mStopIteration\u001b[0m: "
     ]
    }
   ],
   "source": [
    "# one more next?\n",
    "next(repeat_iter)"
   ]
  },
  {
   "cell_type": "markdown",
   "metadata": {
    "slideshow": {
     "slide_type": "subslide"
    }
   },
   "source": [
    "### So making an iterator is pretty easy, too...“\n",
    "* `__next__()` method\n",
    "* `__iter__()` method that returns self\n",
    "* “exhaustion” after one pass"
   ]
  },
  {
   "cell_type": "markdown",
   "metadata": {
    "slideshow": {
     "slide_type": "fragment"
    }
   },
   "source": [
    "### (but don't do it)"
   ]
  },
  {
   "cell_type": "markdown",
   "metadata": {
    "slideshow": {
     "slide_type": "slide"
    }
   },
   "source": [
    "## Making an iterator with a generator function"
   ]
  },
  {
   "cell_type": "code",
   "execution_count": 28,
   "metadata": {
    "slideshow": {
     "slide_type": "fragment"
    }
   },
   "outputs": [
    {
     "name": "stdout",
     "output_type": "stream",
     "text": [
      "hi\n",
      "hi\n",
      "hi\n",
      "hi\n"
     ]
    }
   ],
   "source": [
    "def repeat_gen(value, limit):\n",
    "    for i in range(limit):\n",
    "        yield value\n",
    "\n",
    "\n",
    "for i in repeat_gen(\"hi\", 4):  # iterator returns itself\n",
    "    print(i)"
   ]
  },
  {
   "cell_type": "code",
   "execution_count": 29,
   "metadata": {
    "slideshow": {
     "slide_type": "subslide"
    }
   },
   "outputs": [
    {
     "name": "stdout",
     "output_type": "stream",
     "text": [
      "hi\n",
      "hi\n",
      "hi\n",
      "hi\n"
     ]
    }
   ],
   "source": [
    "# or use a generator expression\n",
    "\n",
    "value = \"hi\"\n",
    "limit = 4\n",
    "\n",
    "repeat_gen_expr = (value for x in range(limit))\n",
    "\n",
    "\n",
    "for item in repeat_gen(\"hi\", 4):\n",
    "    print(item)"
   ]
  },
  {
   "cell_type": "markdown",
   "metadata": {
    "slideshow": {
     "slide_type": "slide"
    }
   },
   "source": [
    "## Iteration in Python\n",
    "\n",
    "* is a **protocol** (since Python 2.2)\n",
    "* requires an **iterable** to iterate over\n",
    "* requires an **iterator** (often automatically created behind the scenes) to track what's **next**\n",
    "* **iterators can be used as iterables,** but don't \"renew\""
   ]
  },
  {
   "cell_type": "markdown",
   "metadata": {
    "slideshow": {
     "slide_type": "slide"
    }
   },
   "source": [
    "## Thank you!\n",
    "\n",
    "### ?'s\n",
    "\n",
    "This notebook available at http://projects.naomiceder.tech/talks/iteration-inside-out/\n",
    "\n",
    "* naomi.ceder@gmail.com\n",
    "* @NaomiCeder"
   ]
  },
  {
   "cell_type": "markdown",
   "metadata": {
    "slideshow": {
     "slide_type": "slide"
    }
   },
   "source": [
    "## Resources\n",
    "\n",
    "* [Python Tutorial - iterators](https://docs.python.org/3.7/tutorial/classes.html#iterators)\n",
    "* [Python Tutorial - generator expressions](https://docs.python.org/3.7/tutorial/classes.html#generator-expressions)\n",
    "* [Iterator types documentation](https://docs.python.org/dev/library/stdtypes.html#iterator-types)\n",
    "* [Iterators, Functional Programming HOWTO](https://docs.python.org/dev/howto/functional.html#iterators)\n",
    "* [Iterations of Evolution: The Unauthorized Biography of the For-Loop](https://www.youtube.com/watch?v=2AXuhgid7E4) - Dave Beazley, PyCon Pakistan 2017"
   ]
  }
 ],
 "metadata": {
  "celltoolbar": "Slideshow",
  "kernelspec": {
   "display_name": "Python 3.6",
   "language": "python",
   "name": "python3.6"
  },
  "language_info": {
   "codemirror_mode": {
    "name": "ipython",
    "version": 3
   },
   "file_extension": ".py",
   "mimetype": "text/x-python",
   "name": "python",
   "nbconvert_exporter": "python",
   "pygments_lexer": "ipython3",
   "version": "3.6.4+"
  },
  "livereveal": {
   "scroll": true,
   "start_slideshow_at": "selected",
   "theme": "white",
   "transition": "none"
  },
  "toc": {
   "nav_menu": {},
   "number_sections": false,
   "sideBar": true,
   "skip_h1_title": false,
   "toc_cell": true,
   "toc_position": {},
   "toc_section_display": "block",
   "toc_window_display": false
  }
 },
 "nbformat": 4,
 "nbformat_minor": 2
}
