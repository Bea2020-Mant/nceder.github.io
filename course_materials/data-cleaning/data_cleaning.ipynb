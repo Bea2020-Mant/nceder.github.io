{
 "cells": [
  {
   "cell_type": "markdown",
   "metadata": {
    "collapsed": true,
    "nbpresent": {
     "id": "26b3b9ad-6a1d-474b-8f6c-40acd315151a"
    },
    "slideshow": {
     "slide_type": "slide"
    }
   },
   "source": [
    " # Extracting & Cleaning Data with Python  \n",
    "\n",
    "$~$\n",
    "\n",
    "## “I Have a Data File, Now What?”\n",
    "\n",
    "$~$\n",
    "\n",
    "### Naomi Ceder\n",
    "* naomi@naomiceder.tech\n",
    "* @NaomiCeder\n",
    "* projects.naomiceder.tech\n",
    "\n"
   ]
  },
  {
   "cell_type": "markdown",
   "metadata": {
    "slideshow": {
     "slide_type": "slide"
    }
   },
   "source": [
    "# My main qualification? I'm quite old..."
   ]
  },
  {
   "cell_type": "markdown",
   "metadata": {
    "slideshow": {
     "slide_type": "fragment"
    }
   },
   "source": [
    "<img src=\"/notebooks/old.jpg\">\n"
   ]
  },
  {
   "cell_type": "markdown",
   "metadata": {
    "nbpresent": {
     "id": "57cfcf5b-27d3-4711-b915-6ccfad966136"
    },
    "slideshow": {
     "slide_type": "subslide"
    }
   },
   "source": [
    "## Who am I?\n",
    "\n",
    "* Python since 2001\n",
    "* Author of Quick Python Book, 2nd Edition (3rd edition late 2017)\n",
    "* Python Software Foundation, Vice Chair of Board of Directors\n",
    "* Python Training (ask your company to hire me)\n",
    "* Long time data grunt - student records, product info, transactions, etc.\n"
   ]
  },
  {
   "cell_type": "markdown",
   "metadata": {
    "nbpresent": {
     "id": "44b6aa0a-4f02-42b2-8aa1-40370671ff15"
    },
    "slideshow": {
     "slide_type": "slide"
    }
   },
   "source": [
    "## About you... \n",
    "\n",
    "* Do you have data cleaning issues?\n",
    "* What problems are you trying to solve?"
   ]
  },
  {
   "cell_type": "markdown",
   "metadata": {
    "nbpresent": {
     "id": "d52073c0-a871-4bed-aab5-77f0514d8031"
    },
    "slideshow": {
     "slide_type": "slide"
    }
   },
   "source": [
    "## Workshop Philosophy\n",
    "\n",
    "“All happy families are alike; each unhappy family is unhappy in its own way.” - Tolstoy\n",
    "\n",
    "“What could possibly go wrong?”\n",
    "\n",
    "“If anything can go wrong, it will” - Murphy\n",
    "\n"
   ]
  },
  {
   "cell_type": "markdown",
   "metadata": {
    "nbpresent": {
     "id": "d89f0121-0c7c-4b75-8807-b4707ae468f0"
    },
    "slideshow": {
     "slide_type": "fragment"
    }
   },
   "source": [
    "**Doing things the hardway - can't we just use pandas?**\n",
    "\n",
    "If things work you can use high level tools and never care... but what about when they don't work?\n",
    "\n",
    "Pandas objects do take additional memory overhead."
   ]
  },
  {
   "cell_type": "markdown",
   "metadata": {
    "slideshow": {
     "slide_type": "subslide"
    }
   },
   "source": [
    "## I need you to...\n",
    "\n",
    "* Ask questions\n",
    "* Try the samples\n",
    "* Raise issues\n",
    "* Stop me if I'm being boring or irrelevant\n",
    "\n",
    "Listening to me drone on will be boring... for all of us."
   ]
  },
  {
   "cell_type": "markdown",
   "metadata": {
    "nbpresent": {
     "id": "c55fd0b6-61f6-44ef-b90e-254adccefb6b"
    },
    "slideshow": {
     "slide_type": "slide"
    }
   },
   "source": [
    "### Workshop plan\n"
   ]
  },
  {
   "cell_type": "markdown",
   "metadata": {
    "nbpresent": {
     "id": "2434938b-ccb3-47f4-a5f3-21ecf43c23f9"
    },
    "slideshow": {
     "slide_type": "fragment"
    }
   },
   "source": [
    "\n",
    "* **Introduction**\n",
    "  * Tools\n",
    "  * Getting Help\n",
    "  * Debugging\n"
   ]
  },
  {
   "cell_type": "markdown",
   "metadata": {
    "nbpresent": {
     "id": "cca27bf6-5f61-46a7-bb21-e5759ea6981d"
    },
    "slideshow": {
     "slide_type": "fragment"
    }
   },
   "source": [
    "  \n",
    "* **Sample problems - code and discussion (depending on interest)**\n",
    "\n",
    "  * plain text - word counting *Moby Dick*\n",
    "  * Fixed Width\n",
    "  * CSV\n",
    "  * JSON\n",
    "  * XML\n",
    "  * Excel\n",
    "  * HTML/Scraping\n",
    "  * binary"
   ]
  },
  {
   "cell_type": "markdown",
   "metadata": {
    "nbpresent": {
     "id": "7638f572-4bae-4b96-adb0-1fae64570d7e"
    },
    "slideshow": {
     "slide_type": "slide"
    }
   },
   "source": [
    "### Tools\n",
    "\n",
    "* Python 3.6\n",
    "  * `pip`\n",
    "  * `conda` if you're using the Anaconda distribution\n",
    "* Jupyter notebook (handy, not required)\n",
    "  * https://notebooks.azure.com/naomiceder/libraries/data-cleaning\n",
    "* virtual environments\n",
    "  * virtual environments\n",
    "  * docker\n",
    "* pandas\n"
   ]
  },
  {
   "cell_type": "markdown",
   "metadata": {
    "nbpresent": {
     "id": "caba240f-096b-4ab7-8695-ffd9ab9587d8"
    },
    "slideshow": {
     "slide_type": "subslide"
    }
   },
   "source": [
    "### This notebook\n",
    "* https://notebooks.azure.com/naomiceder/libraries/data-cleaning\n",
    "* Github... \n",
    "* http://projects.naomiceder.tech/data-cleaning/\n"
   ]
  },
  {
   "cell_type": "markdown",
   "metadata": {
    "nbpresent": {
     "id": "b87321af-d1fb-4087-b1c1-3416ddc3e825"
    },
    "slideshow": {
     "slide_type": "slide"
    }
   },
   "source": [
    "## Getting help\n",
    "* Python - docs.python.org\n",
    "* Library documentation\n",
    "* dir() and help() from Python shell\n"
   ]
  },
  {
   "cell_type": "markdown",
   "metadata": {
    "nbpresent": {
     "id": "adecdecf-3fae-4cbe-924a-f771e1472170"
    },
    "slideshow": {
     "slide_type": "subslide"
    }
   },
   "source": [
    "### Python.org documentation\n",
    "\n",
    "* Python Tutorial (sleep with this under your pillow!) - https://docs.python.org/3/tutorial/index.html\n",
    "* Standard Library - https://docs.python.org/3/library/index.html\n",
    "* pandas - Tutorials, cookbook, etc - http://pandas.pydata.org/pandas-docs/stable/tutorials.html\n",
    "* More Python libraries - PyPI, soon to be known as \"the warehouse\"\n",
    "  * PyPI - https://pypi.python.org/pypi\n",
    "  * “The warehouse” - https://warehouse.python.org, https://pypi.org/"
   ]
  },
  {
   "cell_type": "code",
   "execution_count": null,
   "metadata": {
    "collapsed": true,
    "nbpresent": {
     "id": "ea818d06-7843-49d1-8f41-c72400fcb45c"
    },
    "slideshow": {
     "slide_type": "subslide"
    }
   },
   "outputs": [],
   "source": [
    "#Using dir() and help()\n",
    "import pandas"
   ]
  },
  {
   "cell_type": "markdown",
   "metadata": {
    "nbpresent": {
     "id": "855fc1b2-1ef8-4703-88ea-05c8d5a5fb67"
    },
    "slideshow": {
     "slide_type": "slide"
    }
   },
   "source": [
    "### Debugging\n",
    "\n",
    "#### **Use `print` a lot**\n",
    "  * simple\n",
    "  * fast\n",
    "  * “Did the code get here, and what was x when it did?”\n",
    "  * Not so good for edge cases in loops, large structures, etc.\n",
    "  * a bit awkward to clean up afterwards"
   ]
  },
  {
   "cell_type": "code",
   "execution_count": null,
   "metadata": {
    "collapsed": true
   },
   "outputs": [],
   "source": [
    "for x in range(10):\n",
    "    # do various things here... \n",
    "    y = x*x\n",
    "    print(\"y: \", y)\n"
   ]
  },
  {
   "cell_type": "markdown",
   "metadata": {
    "nbpresent": {
     "id": "9f76d53b-d0f8-4bfc-af42-a26ebf252826"
    },
    "slideshow": {
     "slide_type": "subslide"
    }
   },
   "source": [
    "#### **logging** \n",
    "  * https://docs.python.org/3/howto/logging-cookbook.html, https://docs.python.org/3/howto/logging.html\n",
    "  * useful in production\n",
    "  * configurable levels\n",
    "  * multiple handlers\n",
    "  * file record\n",
    "  * more work to set up\n",
    "  * less clean-up, just set the debug levels\n"
   ]
  },
  {
   "cell_type": "code",
   "execution_count": null,
   "metadata": {
    "collapsed": true,
    "slideshow": {
     "slide_type": "subslide"
    }
   },
   "outputs": [],
   "source": [
    "import logging\n",
    "\n",
    "# create the logger\n",
    "logger = logging.getLogger('my_process')\n",
    "logger.setLevel(logging.DEBUG)\n",
    "\n",
    "# set up file for debug level messages\n",
    "file_handler = logging.FileHandler('process.log')\n",
    "file_handler.setLevel(logging.DEBUG)\n",
    "logger.addHandler(file_handler)\n",
    "\n",
    "# setup console for errors only\n",
    "console_handler = logging.StreamHandler()\n",
    "console_handler.setLevel(logging.ERROR)\n",
    "logger.addHandler(console_handler)\n",
    "\n",
    "logger.debug(\"This goes only to the file\")\n",
    "logger.error(\"This only goes to the console and the file\")"
   ]
  },
  {
   "cell_type": "code",
   "execution_count": null,
   "metadata": {
    "collapsed": true,
    "slideshow": {
     "slide_type": "fragment"
    }
   },
   "outputs": [],
   "source": [
    "print(open('process.log').read())"
   ]
  },
  {
   "cell_type": "markdown",
   "metadata": {
    "nbpresent": {
     "id": "9b164dc6-c050-4577-94a1-008abe094762"
    },
    "slideshow": {
     "slide_type": "subslide"
    }
   },
   "source": [
    "#### **Python (or IDE) debugger**\n",
    "  * https://docs.python.org/3/library/pdb.html\n",
    "  * good for complex situations\n",
    "  * conditional break points\n",
    "  * stepping through a process\n",
    "  * more work and time than print\n",
    "  * needs some clean-up"
   ]
  },
  {
   "cell_type": "code",
   "execution_count": null,
   "metadata": {
    "collapsed": true,
    "nbpresent": {
     "id": "6545282f-ccba-4d6d-9f4e-df39b58cf55a"
    },
    "slideshow": {
     "slide_type": "subslide"
    }
   },
   "outputs": [],
   "source": [
    "import pdb\n",
    "\n",
    "for x in range(10):\n",
    "    # do various things here... \n",
    "    y = x*x\n",
    "    pdb.set_trace()\n"
   ]
  },
  {
   "cell_type": "markdown",
   "metadata": {
    "nbpresent": {
     "id": "7e7e0d3c-2a00-4e2d-8981-ace7238f0b97"
    }
   },
   "source": [
    "## Opening and reading files\n",
    "\n",
    "### Opening\n",
    "\n",
    "* encoding and errors\n",
    "* binary vs text\n",
    "* universal newline\n",
    "* \"with\" context handler\n"
   ]
  },
  {
   "cell_type": "markdown",
   "metadata": {
    "nbpresent": {
     "id": "cbdb2153-4119-4d75-ab38-eb2d96c75126"
    },
    "slideshow": {
     "slide_type": "subslide"
    }
   },
   "source": [
    "### Binary files\n",
    "\n",
    "* open as binary\n",
    "* bytes, not strings\n",
    "* struct module\n",
    "* \"endianness\" or byte order\n",
    "* Format specifier to unpack must match the one used to pack"
   ]
  },
  {
   "cell_type": "code",
   "execution_count": null,
   "metadata": {
    "collapsed": true,
    "nbpresent": {
     "id": "f0f51b1e-32fa-4f49-8f9c-08ae6d1d8594"
    },
    "slideshow": {
     "slide_type": "slide"
    }
   },
   "outputs": [],
   "source": [
    "import sys\n",
    "sys.byteorder"
   ]
  },
  {
   "cell_type": "code",
   "execution_count": null,
   "metadata": {
    "collapsed": true,
    "nbpresent": {
     "id": "db66e259-97ad-42ef-a9d4-7edb1f40ab9d"
    },
    "scrolled": true,
    "slideshow": {
     "slide_type": "subslide"
    }
   },
   "outputs": [],
   "source": [
    "# example of binary files\n",
    "import struct\n",
    "answer = 42\n",
    "month = 5\n",
    "day = 6\n",
    "\n",
    "# pack 3 ints into binary\n",
    "buffer = struct.pack(\"III\", answer, month, day)\n",
    "print(\"Buffer as bytes:\", buffer)\n",
    "\n",
    "# write to file in binary mode\n",
    "open(\"test_binary\", \"wb\").write(buffer)\n",
    "print(\"Decoded to string :\", buffer.decode())\n",
    "print(\"Unpacked to tuple:\", struct.unpack(\"III\", buffer))\n",
    "\n",
    "# read from file in binary mode\n",
    "buffer2 = open(\"test_binary\", \"rb\").read()\n",
    "print(\"Read from file:\", buffer2)\n",
    "print(int(buffer[0]))\n",
    "print(buffer[0])"
   ]
  },
  {
   "cell_type": "markdown",
   "metadata": {
    "slideshow": {
     "slide_type": "subslide"
    }
   },
   "source": [
    "### strings vs. bytes\n",
    "* no difference in Python 2\n",
    "  * series of bytes, but treated as strings\n",
    "  * conversion needed for unicode\n",
    "* big difference in Python 3\n",
    "  * bytes - series of bytes, but really treated as bytes (0-256 integers)\n",
    "  * string - Unicode by default\n",
    "  * conversion needed between the two, bytes are not a string!"
   ]
  },
  {
   "cell_type": "code",
   "execution_count": null,
   "metadata": {
    "collapsed": true,
    "nbpresent": {
     "id": "ee172c6b-3420-4ffc-b39a-f5272cd4c886"
    },
    "slideshow": {
     "slide_type": "subslide"
    }
   },
   "outputs": [],
   "source": [
    "b = [0, 9, 32, 48, 65, 66, 67]\n",
    "b_string = bytes(b)\n",
    "print(b_string.decode())"
   ]
  },
  {
   "cell_type": "markdown",
   "metadata": {
    "nbpresent": {
     "id": "256f1747-2548-47b6-97e2-051d435a0f53"
    },
    "slideshow": {
     "slide_type": "slide"
    }
   },
   "source": [
    "### Text files\n",
    "\n",
    "* open as text\n",
    "* treat as series of lines\n",
    "* need encoding (UTF-8 by default)\n",
    "   * Unicode - https://docs.python.org/3/howto/unicode.html\n",
    "* errors settings"
   ]
  },
  {
   "cell_type": "markdown",
   "metadata": {
    "nbpresent": {
     "id": "ca54d50c-3369-4261-bfcf-74f61538303e"
    },
    "slideshow": {
     "slide_type": "subslide"
    }
   },
   "source": [
    "### Reading\n",
    "\n",
    "* series of lines - no need to read explicitly\n",
    "* newlines still present\n",
    "* context handlers - \"with\"\n"
   ]
  },
  {
   "cell_type": "code",
   "execution_count": null,
   "metadata": {
    "collapsed": true,
    "nbpresent": {
     "id": "8e4a498c-06d0-4faa-9f67-34d9500963a2"
    }
   },
   "outputs": [],
   "source": [
    "# text file example\n",
    "\n",
    "open(\"test\", \"w\", newline='').write(\"this is\\nä\\x80\\ff\\r\\ntest\\xc3\\x28\")\n",
    "print(\"this is\\nä\\x80\\ff\\r\\ntest\\xc3\\x28\")"
   ]
  },
  {
   "cell_type": "code",
   "execution_count": null,
   "metadata": {
    "collapsed": true,
    "nbpresent": {
     "id": "e401e860-8472-4fe9-9627-2c3ca0ff9166"
    }
   },
   "outputs": [],
   "source": [
    "\n",
    "\n",
    "text = open(\"test\", \"r\", newline='\\r\\n').read()\n",
    "text2 = open(\"test2\", \"r\").read()\n",
    "print(text2)\n",
    "text2"
   ]
  },
  {
   "cell_type": "markdown",
   "metadata": {
    "nbpresent": {
     "id": "1cefab28-c321-423f-bbc3-8bc4018fb849"
    }
   },
   "source": [
    "### Pitfalls and solutions\n",
    "\n",
    "* unknown encoding\n",
    "  * use binary\n",
    "  * set errors to ignore, replace, or something else\n",
    "* newline issues\n",
    "  * strip(), rstrip(), then add back\n",
    "  * newline option"
   ]
  },
  {
   "cell_type": "markdown",
   "metadata": {
    "nbpresent": {
     "id": "f3c1746e-4236-45e4-9849-55133d08c7e3"
    }
   },
   "source": [
    "## Plain text\n",
    "\n",
    "* NLTK\n",
    "* data cleaning/normalization\n",
    "\n",
    "Problem - word count of Moby Dick\n",
    "* dictionary\n",
    "* collections counter\n",
    "* NLTK tokens"
   ]
  },
  {
   "cell_type": "code",
   "execution_count": null,
   "metadata": {
    "collapsed": true
   },
   "outputs": [],
   "source": [
    "moby = []\n",
    "\n",
    "with open(\"moby_dick_01.txt\") as ch01:\n",
    "    for line in ch01:\n",
    "        moby.append(line)\n",
    "        \n",
    "print(moby[:10])"
   ]
  },
  {
   "cell_type": "markdown",
   "metadata": {
    "nbpresent": {
     "id": "a58156c7-8378-42b9-b05f-edc02674c066"
    }
   },
   "source": [
    "## Data Cleaning - String Fu\n",
    "\n",
    "\n",
    "* string methods - upper(), lower(), replace(), find(), index(), in, startswith(), endswith(), etc\n",
    "* str.translate()\n",
    "* regular expressions - https://docs.python.org/3/howto/regex.html\n",
    "   ‘Some people, when confronted with a problem, think \"I know, I'll use regular expressions.\" Now they have two problems’ - Jamie Zawiski"
   ]
  },
  {
   "cell_type": "markdown",
   "metadata": {
    "nbpresent": {
     "id": "31e0a3fe-eedb-4467-8a34-a573daccc81f"
    }
   },
   "source": [
    "## Fixed Width Records\n",
    "\n",
    "Problem - London weather\n",
    "* plain python\n",
    "* FixedWidth library\n",
    "* pandas\n",
    "\n",
    "http://pandas.pydata.org/pandas-docs/stable/generated/pandas.read_fwf.html\n",
    "\n",
    "https://pypi.python.org/pypi/FixedWidth/0.99.3\n",
    "\n",
    "http://docs.astropy.org/en/stable/io/ascii/"
   ]
  },
  {
   "cell_type": "code",
   "execution_count": null,
   "metadata": {
    "collapsed": true
   },
   "outputs": [],
   "source": [
    "with open(\"heathrowdata.txt\") as LHR_input:\n",
    "    for row in LHR_input:\n",
    "        print(row)\n",
    "    "
   ]
  },
  {
   "cell_type": "code",
   "execution_count": null,
   "metadata": {
    "collapsed": true,
    "nbpresent": {
     "id": "8a2d3988-8dc4-443e-9e71-75e33809d53b"
    }
   },
   "outputs": [],
   "source": [
    "\n",
    "lines = LHR.split(\"\\n\")\n",
    "header_1 = lines[0].split()\n",
    "header_2 = [\"\"] * 2 + lines[1].split()\n",
    "print(header_2)\n",
    "header = [\"\\n\".join(x) for x in zip(header_1, header_2)]\n",
    "print(header)\n",
    "#df = pandas.read_fwf(LHR)\n",
    "records = [dict(zip(header, [y for y in line.split() ])) for line in lines[2:]]\n",
    "\n",
    "print(records[2])\n",
    "df = pandas.DataFrame([x.split() for x in lines])\n",
    "df2 = pandas.DataFrame(records[2:])\n",
    "print(df.shape)\n",
    "print(df2)\n",
    "help(pandas.read_fwf)"
   ]
  },
  {
   "cell_type": "markdown",
   "metadata": {
    "nbpresent": {
     "id": "191ab12e-9042-48dd-88b5-786615ea198d"
    }
   },
   "source": [
    "## Delimited (CSV) files\n",
    "\n",
    "* https://docs.python.org/3/library/csv.html\n",
    "* "
   ]
  },
  {
   "cell_type": "code",
   "execution_count": null,
   "metadata": {
    "collapsed": true
   },
   "outputs": [],
   "source": [
    "with open(\"temp_data_01.txt\") as input_file:\n",
    "    for row in input_file:\n",
    "        print(row)"
   ]
  },
  {
   "cell_type": "code",
   "execution_count": null,
   "metadata": {
    "collapsed": true
   },
   "outputs": [],
   "source": [
    "with open(\"temp_data_01.csv\") as input_file:\n",
    "    for row in input_file:\n",
    "        print(row)"
   ]
  },
  {
   "cell_type": "code",
   "execution_count": null,
   "metadata": {
    "collapsed": true
   },
   "outputs": [],
   "source": [
    "with open(\"temp_data_pipes_01.txt\") as input_file:\n",
    "    for row in input_file:\n",
    "        print(row)"
   ]
  },
  {
   "cell_type": "code",
   "execution_count": null,
   "metadata": {
    "collapsed": true
   },
   "outputs": [],
   "source": [
    "with open(\"Meteorite_Landings.tsv\") as input_file:\n",
    "    for row in input_file:\n",
    "        print(row)"
   ]
  },
  {
   "cell_type": "code",
   "execution_count": null,
   "metadata": {
    "collapsed": true
   },
   "outputs": [],
   "source": [
    "with open(\"london.json\") as input_file:\n",
    "    for row in input_file:\n",
    "        print(row)"
   ]
  },
  {
   "cell_type": "code",
   "execution_count": null,
   "metadata": {
    "collapsed": true
   },
   "outputs": [],
   "source": [
    "with open(\"landslide.json\") as input_file:\n",
    "    for row in input_file:\n",
    "        print(row)"
   ]
  },
  {
   "cell_type": "code",
   "execution_count": null,
   "metadata": {
    "collapsed": true,
    "nbpresent": {
     "id": "9a80d0eb-1430-4077-b413-362fdd14fa37"
    }
   },
   "outputs": [],
   "source": [
    "open(\"test2\", \"wb\").write(b\"this,is,a\\ntest\\x00,null,file\")\n",
    "import csv\n",
    "for x in csv.reader(open(\"test2\", \"r\")):\n",
    "    print(x)\n",
    "\n",
    "# Cleaning NULL (\\x00) bytes from a data file\n",
    "fi = open('my.csv', 'rb')\n",
    "data = fi.read()\n",
    "fi.close()\n",
    "fo = open('mynew.csv', 'wb')\n",
    "fo.write(data.replace('\\x00', ''))\n",
    "fo.close()\n",
    "\n",
    "# alternative\n",
    "reader = csv.reader(x.replace('\\0', '') for x in mycsv)\n"
   ]
  },
  {
   "cell_type": "code",
   "execution_count": null,
   "metadata": {
    "collapsed": true,
    "scrolled": true
   },
   "outputs": [],
   "source": [
    "with open(\"chicago.json\") as input_file:\n",
    "    for row in input_file:\n",
    "        print(row)"
   ]
  },
  {
   "cell_type": "code",
   "execution_count": null,
   "metadata": {
    "collapsed": true,
    "scrolled": true
   },
   "outputs": [],
   "source": [
    "with open(\"mars.json\") as input_file:\n",
    "    for row in input_file:\n",
    "        print(row)"
   ]
  },
  {
   "cell_type": "code",
   "execution_count": null,
   "metadata": {
    "collapsed": true
   },
   "outputs": [],
   "source": [
    "with open(\"landslide.xml\") as input_file:\n",
    "    for row in input_file:\n",
    "        print(row)"
   ]
  },
  {
   "cell_type": "code",
   "execution_count": null,
   "metadata": {
    "collapsed": true,
    "scrolled": false
   },
   "outputs": [],
   "source": [
    "with open(\"observations.xml\") as input_file:\n",
    "    for row in input_file:\n",
    "        print(row)"
   ]
  },
  {
   "cell_type": "code",
   "execution_count": null,
   "metadata": {
    "collapsed": true
   },
   "outputs": [],
   "source": [
    "with open(\"weather_01.xml\") as input_file:\n",
    "    for row in input_file:\n",
    "        print(row)"
   ]
  },
  {
   "cell_type": "markdown",
   "metadata": {
    "nbpresent": {
     "id": "a50f85b8-a51a-4555-802d-0d0822a59ad3"
    }
   },
   "source": [
    "## JSON files\n",
    "* one giant object, vs list of objects"
   ]
  },
  {
   "cell_type": "code",
   "execution_count": null,
   "metadata": {
    "collapsed": true
   },
   "outputs": [],
   "source": []
  },
  {
   "cell_type": "markdown",
   "metadata": {
    "nbpresent": {
     "id": "1f2dceeb-f08f-4894-8433-260956e571f2"
    }
   },
   "source": [
    "## XML files\n",
    "\n",
    "* xmltodict"
   ]
  },
  {
   "cell_type": "markdown",
   "metadata": {
    "nbpresent": {
     "id": "7ee12f08-e052-4fd9-bccf-56a8dcb59045"
    }
   },
   "source": [
    "## HTML and Scraping"
   ]
  },
  {
   "cell_type": "markdown",
   "metadata": {
    "nbpresent": {
     "id": "e8e54e66-8897-4837-a1bc-b8919cc3e4af"
    }
   },
   "source": [
    "## Excel files"
   ]
  },
  {
   "cell_type": "code",
   "execution_count": null,
   "metadata": {
    "collapsed": true,
    "nbpresent": {
     "id": "c42e83a7-df66-4d2d-a1df-c75e2c1f624e"
    }
   },
   "outputs": [],
   "source": [
    "import sys\n",
    "import struct\n",
    "print(get_size(LHR))\n",
    "print(get_size(lines))\n",
    "print(get_size(records))\n",
    "print(get_size(df2))\n",
    "df2.info(memory_usage='deep')\n"
   ]
  },
  {
   "cell_type": "code",
   "execution_count": null,
   "metadata": {
    "collapsed": true,
    "nbpresent": {
     "id": "b70999ef-371c-47f8-b617-dd5e4fd4b23f"
    }
   },
   "outputs": [],
   "source": [
    "def get_size(obj, seen=None):\n",
    "    \"\"\"Recursively finds size of objects\"\"\"\n",
    "    size = sys.getsizeof(obj)\n",
    "    if seen is None:\n",
    "        seen = set()\n",
    "    obj_id = id(obj)\n",
    "    if obj_id in seen:\n",
    "        return 0\n",
    "    # Important mark as seen *before* entering recursion to gracefully handle\n",
    "    # self-referential objects\n",
    "    seen.add(obj_id)\n",
    "    if isinstance(obj, dict):\n",
    "        size += sum([get_size(v, seen) for v in obj.values()])\n",
    "        size += sum([get_size(k, seen) for k in obj.keys()])\n",
    "    elif hasattr(obj, '__dict__'):\n",
    "        size += get_size(obj.__dict__, seen)\n",
    "    elif hasattr(obj, '__iter__') and not isinstance(obj, (str, bytes, bytearray)):\n",
    "        size += sum([get_size(i, seen) for i in obj])\n",
    "    return size"
   ]
  },
  {
   "cell_type": "markdown",
   "metadata": {
    "nbpresent": {
     "id": "95a06dd6-07a2-423a-929c-aa1b046c1b11"
    }
   },
   "source": [
    "## Tips and tricks\n",
    "\n",
    "* Use commandline (unix) tools\n",
    "* sets for uniqueness\n",
    "* dictionaries for matching\n",
    "* list and dictionary comprehensions\n",
    "\n"
   ]
  },
  {
   "cell_type": "markdown",
   "metadata": {
    "nbpresent": {
     "id": "efd64576-0af8-4206-85b4-deefc6a3332a"
    }
   },
   "source": [
    "## Optimizations\n",
    "\n",
    "* avoid premature optimizations\n",
    "* processor time is generally cheaper than human time\n",
    "* beware of loops - move things out\n",
    "* avoid repeated string operations (concatenation, etc)\n",
    "* parallelization and concurrency\n",
    "* avoid reading and especially avoid writing to disk (or DB, or virtual memory)\n",
    "* divide and conquer (map/reduce)\n",
    "* sorting can help (binary search)\n",
    "\n",
    "\n"
   ]
  },
  {
   "cell_type": "markdown",
   "metadata": {
    "nbpresent": {
     "id": "090c6c48-6c1a-4935-a04f-db2ac240f166"
    }
   },
   "source": [
    "## Very large files\n",
    "\n",
    "(Example: based on Grainger product feed -> MongoDB, combining 4 files)\n",
    "* 4 delimited flat files, unsorted\n",
    "  * items - ~2 million rows; sku, description, categories, dimensions, compliance, brand, MPN, etc.\n",
    "  * attributes - 20 million rows; sku, attr_id, attr_name, attr_value\n",
    "  * alternates/accessories - sku, type, alt_sku\n",
    "  * cross reference - sku, competitor, alt part number"
   ]
  },
  {
   "cell_type": "markdown",
   "metadata": {
    "nbpresent": {
     "id": "f3318c2a-024f-4294-af42-8062b373c241"
    }
   },
   "source": [
    "## Testing?\n",
    "problems with testing over very large data sets\n",
    "\n",
    "Small sample for sanity check\n",
    "\n",
    "Loud errors\n",
    "\n",
    "Be sparing with exceptions"
   ]
  },
  {
   "cell_type": "markdown",
   "metadata": {
    "nbpresent": {
     "id": "92b85c3a-29de-4cd2-ad18-a218b0e718b6"
    },
    "slideshow": {
     "slide_type": "slide"
    }
   },
   "source": [
    "## Getting Data\n",
    "\n",
    "### Where is the data?\n",
    "\n",
    "* Database\n",
    "* Online\n",
    "* Files"
   ]
  },
  {
   "cell_type": "markdown",
   "metadata": {
    "nbpresent": {
     "id": "8d8c0abd-8dee-47c3-91be-b8c1d712a6a0"
    },
    "slideshow": {
     "slide_type": "slide"
    }
   },
   "source": [
    "### Data from a database\n",
    "\n",
    "* Control over what fields are extracted and how\n",
    "* Control over output format\n",
    "* less likely to need cleaning/normalization\n",
    "\n",
    "### Python tool of choice - SQLAlchemy and/or low level drivers\n",
    "* ORM\n",
    "* Standardized interface for queries\n",
    "* Results as objects\n"
   ]
  },
  {
   "cell_type": "code",
   "execution_count": null,
   "metadata": {
    "collapsed": true,
    "nbpresent": {
     "id": "ac78d922-891e-4e49-af30-9690c44456a0"
    },
    "slideshow": {
     "slide_type": "subslide"
    }
   },
   "outputs": [],
   "source": [
    "import sqlalchemy\n",
    "# SQLAlchemy example"
   ]
  },
  {
   "cell_type": "markdown",
   "metadata": {
    "nbpresent": {
     "id": "ec3c0175-88c7-4162-8236-2b24993de91f"
    },
    "slideshow": {
     "slide_type": "subslide"
    }
   },
   "source": [
    "### Data from online sources\n",
    "\n",
    "* FTP - Python module - ftplib\n",
    "* SFTP - FTP (sort of) over SSH - pysftp\n",
    "* API - REST interfaces over http/https - requests\n",
    "* Scraping - http/https - requests/scrapy/beautiful soup/ect\n"
   ]
  },
  {
   "cell_type": "code",
   "execution_count": null,
   "metadata": {
    "collapsed": true,
    "nbpresent": {
     "id": "0b906ef0-cb14-4024-b76c-57cc10b7c6ec"
    },
    "slideshow": {
     "slide_type": "subslide"
    }
   },
   "outputs": [],
   "source": [
    "#FTP example"
   ]
  },
  {
   "cell_type": "code",
   "execution_count": null,
   "metadata": {
    "collapsed": true,
    "nbpresent": {
     "id": "142cbc80-7592-4584-bebe-b56b5767fa9f"
    },
    "slideshow": {
     "slide_type": "subslide"
    }
   },
   "outputs": [],
   "source": [
    "#SFTP example"
   ]
  },
  {
   "cell_type": "code",
   "execution_count": null,
   "metadata": {
    "collapsed": true,
    "nbpresent": {
     "id": "2473fb9f-590d-4776-80a5-efee83edf680"
    },
    "slideshow": {
     "slide_type": "subslide"
    }
   },
   "outputs": [],
   "source": [
    "# API example"
   ]
  }
 ],
 "metadata": {
  "celltoolbar": "Slideshow",
  "kernelspec": {
   "display_name": "Python 3",
   "language": "python",
   "name": "python3"
  },
  "language_info": {
   "codemirror_mode": {
    "name": "ipython",
    "version": 3
   },
   "file_extension": ".py",
   "mimetype": "text/x-python",
   "name": "python",
   "nbconvert_exporter": "python",
   "pygments_lexer": "ipython3",
   "version": "3.6.0b3"
  },
  "livereveal": {
   "start_slideshow_at": "selected"
  },
  "nbpresent": {
   "slides": {
    "16fa30ee-1d7e-4f43-8365-3994b6ed36a8": {
     "id": "16fa30ee-1d7e-4f43-8365-3994b6ed36a8",
     "prev": "2bb83e06-39b5-4e33-86c6-1dfd5fca6c30",
     "regions": {
      "7a284399-8ba1-44d2-a414-f1f7ed045a81": {
       "attrs": {
        "height": 0.4,
        "width": 0.8,
        "x": 0.1,
        "y": 0.5
       },
       "content": {
        "cell": "9b164dc6-c050-4577-94a1-008abe094762",
        "part": "whole"
       },
       "id": "7a284399-8ba1-44d2-a414-f1f7ed045a81"
      },
      "ae912645-78b0-4103-888a-57c7c053f85a": {
       "attrs": {
        "height": 0.8,
        "width": 0.8,
        "x": 0.1,
        "y": 0.1
       },
       "content": {
        "cell": "9f76d53b-d0f8-4bfc-af42-a26ebf252826",
        "part": "whole"
       },
       "id": "ae912645-78b0-4103-888a-57c7c053f85a"
      },
      "ea333b90-9bec-4680-8f52-5d567d5a5b11": {
       "attrs": {
        "height": 0.4,
        "width": 0.8,
        "x": 0.1,
        "y": 0.5
       },
       "content": {
        "cell": "6545282f-ccba-4d6d-9f4e-df39b58cf55a",
        "part": "whole"
       },
       "id": "ea333b90-9bec-4680-8f52-5d567d5a5b11"
      }
     }
    },
    "1cca9be6-223a-4a5b-9707-c9f192485ab9": {
     "id": "1cca9be6-223a-4a5b-9707-c9f192485ab9",
     "prev": "5956f6ec-fa48-4408-a0d0-b400ebdf7c74",
     "regions": {
      "08bb1fde-08c9-4d9d-87a0-9dfbcf368ceb": {
       "attrs": {
        "height": 0.8,
        "width": 0.8,
        "x": 0.1,
        "y": 0.1
       },
       "content": {
        "cell": "c55fd0b6-61f6-44ef-b90e-254adccefb6b",
        "part": "whole"
       },
       "id": "08bb1fde-08c9-4d9d-87a0-9dfbcf368ceb"
      },
      "1ce204ad-2b0a-4c6e-a192-934945b2f900": {
       "attrs": {
        "height": 0.4,
        "width": 0.8,
        "x": 0.1,
        "y": 0.5
       },
       "content": {
        "cell": "cca27bf6-5f61-46a7-bb21-e5759ea6981d",
        "part": "whole"
       },
       "id": "1ce204ad-2b0a-4c6e-a192-934945b2f900"
      },
      "632b6b63-2b29-475d-90a5-c5bafef46831": {
       "attrs": {
        "height": 0.4,
        "width": 0.8,
        "x": 0.1,
        "y": 0.5
       },
       "content": {
        "cell": "2434938b-ccb3-47f4-a5f3-21ecf43c23f9",
        "part": "whole"
       },
       "id": "632b6b63-2b29-475d-90a5-c5bafef46831"
      }
     }
    },
    "2271af5b-13e3-41ba-bca0-1eabb3d29814": {
     "id": "2271af5b-13e3-41ba-bca0-1eabb3d29814",
     "prev": null,
     "regions": {
      "99631131-5bdc-4fa0-a464-4659b3c109d0": {
       "attrs": {
        "height": 0.8,
        "width": 0.8,
        "x": 0.1,
        "y": 0.1
       },
       "content": {
        "cell": "26b3b9ad-6a1d-474b-8f6c-40acd315151a",
        "part": "whole"
       },
       "id": "99631131-5bdc-4fa0-a464-4659b3c109d0"
      }
     }
    },
    "2b0e9ac9-aade-4454-b430-35240525f60f": {
     "id": "2b0e9ac9-aade-4454-b430-35240525f60f",
     "prev": "fd14396f-871d-4acc-8bc7-0b5318ba394a",
     "regions": {
      "d5dfcaaf-2c1e-4787-92c0-8a147ae14c5d": {
       "attrs": {
        "height": 0.8,
        "width": 0.8,
        "x": 0.1,
        "y": 0.1
       },
       "content": {
        "cell": "ec3c0175-88c7-4162-8236-2b24993de91f",
        "part": "whole"
       },
       "id": "d5dfcaaf-2c1e-4787-92c0-8a147ae14c5d"
      }
     }
    },
    "2bb83e06-39b5-4e33-86c6-1dfd5fca6c30": {
     "id": "2bb83e06-39b5-4e33-86c6-1dfd5fca6c30",
     "prev": "8a36bdbb-f784-456c-9c16-aa88631e0226",
     "regions": {
      "0e7f7b42-07a6-4e4d-b997-2bf0f9af2713": {
       "attrs": {
        "height": 0.8,
        "width": 0.8,
        "x": 0.1,
        "y": 0.1
       },
       "content": {
        "cell": "855fc1b2-1ef8-4703-88ea-05c8d5a5fb67",
        "part": "whole"
       },
       "id": "0e7f7b42-07a6-4e4d-b997-2bf0f9af2713"
      }
     }
    },
    "3713f2d9-f7fb-45ee-b9c7-f54435c791e2": {
     "id": "3713f2d9-f7fb-45ee-b9c7-f54435c791e2",
     "prev": "8abe55f1-aeb9-4f3b-9647-826c3c5c5eb8",
     "regions": {
      "6d213c8a-2e39-4ddc-b318-1377dbf3cebf": {
       "attrs": {
        "height": 0.4,
        "width": 0.8,
        "x": 0.1,
        "y": 0.5
       },
       "content": {
        "cell": "f0f51b1e-32fa-4f49-8f9c-08ae6d1d8594",
        "part": "whole"
       },
       "id": "6d213c8a-2e39-4ddc-b318-1377dbf3cebf"
      },
      "c41ae2cf-4cc5-41c5-899c-c02a0cc41ece": {
       "attrs": {
        "height": 0.8,
        "width": 0.8,
        "x": 0.1,
        "y": 0.1
       },
       "content": {
        "cell": "cbdb2153-4119-4d75-ab38-eb2d96c75126",
        "part": "whole"
       },
       "id": "c41ae2cf-4cc5-41c5-899c-c02a0cc41ece"
      }
     }
    },
    "4711fc1f-0094-4dcf-81f2-cff55054acc3": {
     "id": "4711fc1f-0094-4dcf-81f2-cff55054acc3",
     "prev": "c12efa03-d7cc-4b62-bb40-af27fa139fbb",
     "regions": {
      "aa9fbdef-534e-4087-9184-cdd3b737efa5": {
       "attrs": {
        "height": 0.8,
        "width": 0.8,
        "x": 0.1,
        "y": 0.1
       },
       "content": {
        "cell": "2473fb9f-590d-4776-80a5-efee83edf680",
        "part": "whole"
       },
       "id": "aa9fbdef-534e-4087-9184-cdd3b737efa5"
      }
     }
    },
    "4cab0740-2171-470e-9e99-b5c208a46636": {
     "id": "4cab0740-2171-470e-9e99-b5c208a46636",
     "prev": "2271af5b-13e3-41ba-bca0-1eabb3d29814",
     "regions": {
      "f22d4f46-139f-4f7c-adf8-51a81d8159ae": {
       "attrs": {
        "height": 0.8,
        "width": 0.8,
        "x": 0.1,
        "y": 0.1
       },
       "content": {
        "cell": "57cfcf5b-27d3-4711-b915-6ccfad966136",
        "part": "whole"
       },
       "id": "f22d4f46-139f-4f7c-adf8-51a81d8159ae"
      }
     }
    },
    "4fc2f5c6-f0a7-4acc-a94e-9cf57c7bd2c8": {
     "id": "4fc2f5c6-f0a7-4acc-a94e-9cf57c7bd2c8",
     "prev": "f45f4adf-9269-4537-896d-2a4da0c01289",
     "regions": {
      "18c98fb3-0f95-4f9c-8bf2-00bb5ac3d66b": {
       "attrs": {
        "height": 0.4,
        "width": 0.8,
        "x": 0.1,
        "y": 0.5
       },
       "content": {
        "cell": "c42e83a7-df66-4d2d-a1df-c75e2c1f624e",
        "part": "whole"
       },
       "id": "18c98fb3-0f95-4f9c-8bf2-00bb5ac3d66b"
      },
      "20813141-8324-4d51-b413-db698660150d": {
       "attrs": {
        "height": 0.4,
        "width": 0.8,
        "x": 0.1,
        "y": 0.5
       },
       "content": {
        "cell": "090c6c48-6c1a-4935-a04f-db2ac240f166",
        "part": "whole"
       },
       "id": "20813141-8324-4d51-b413-db698660150d"
      },
      "24536391-3528-43e8-a743-831cb3804038": {
       "attrs": {
        "height": 0.4,
        "width": 0.8,
        "x": 0.1,
        "y": 0.5
       },
       "content": {
        "cell": "ee172c6b-3420-4ffc-b39a-f5272cd4c886",
        "part": "whole"
       },
       "id": "24536391-3528-43e8-a743-831cb3804038"
      },
      "3881f557-46f5-4b46-96d1-2e1ddcb98d4e": {
       "attrs": {
        "height": 0.4,
        "width": 0.8,
        "x": 0.1,
        "y": 0.5
       },
       "content": {
        "cell": "e401e860-8472-4fe9-9627-2c3ca0ff9166",
        "part": "whole"
       },
       "id": "3881f557-46f5-4b46-96d1-2e1ddcb98d4e"
      },
      "3bfeee05-c5a3-4996-89b9-a40618b86628": {
       "attrs": {
        "height": 0.4,
        "width": 0.8,
        "x": 0.1,
        "y": 0.5
       },
       "content": {
        "cell": "7ee12f08-e052-4fd9-bccf-56a8dcb59045",
        "part": "whole"
       },
       "id": "3bfeee05-c5a3-4996-89b9-a40618b86628"
      },
      "53fe6a5f-c6c3-46ae-9190-7374d5691a0c": {
       "attrs": {
        "height": 0.4,
        "width": 0.8,
        "x": 0.1,
        "y": 0.5
       },
       "content": {
        "cell": "9a80d0eb-1430-4077-b413-362fdd14fa37",
        "part": "whole"
       },
       "id": "53fe6a5f-c6c3-46ae-9190-7374d5691a0c"
      },
      "576b8041-2fd3-41fd-af34-fb6efba583ee": {
       "attrs": {
        "height": 0.4,
        "width": 0.8,
        "x": 0.1,
        "y": 0.5
       },
       "content": {
        "cell": "e8e54e66-8897-4837-a1bc-b8919cc3e4af",
        "part": "whole"
       },
       "id": "576b8041-2fd3-41fd-af34-fb6efba583ee"
      },
      "58593b46-d3ca-4262-b83d-f7475d3ebdd6": {
       "attrs": {
        "height": 0.4,
        "width": 0.8,
        "x": 0.1,
        "y": 0.5
       },
       "content": {
        "cell": "b70999ef-371c-47f8-b617-dd5e4fd4b23f",
        "part": "whole"
       },
       "id": "58593b46-d3ca-4262-b83d-f7475d3ebdd6"
      },
      "6221e80e-3348-49e2-8855-117939496fbf": {
       "attrs": {
        "height": 0.4,
        "width": 0.8,
        "x": 0.1,
        "y": 0.5
       },
       "content": {
        "cell": "efd64576-0af8-4206-85b4-deefc6a3332a",
        "part": "whole"
       },
       "id": "6221e80e-3348-49e2-8855-117939496fbf"
      },
      "66297336-7886-44fd-b710-368996df6224": {
       "attrs": {
        "height": 0.4,
        "width": 0.8,
        "x": 0.1,
        "y": 0.5
       },
       "content": {
        "cell": "8a2d3988-8dc4-443e-9e71-75e33809d53b",
        "part": "whole"
       },
       "id": "66297336-7886-44fd-b710-368996df6224"
      },
      "6ff8b1b4-9154-4199-84fa-33f9d968281a": {
       "attrs": {
        "height": 0.4,
        "width": 0.8,
        "x": 0.1,
        "y": 0.5
       },
       "content": {
        "cell": "8e4a498c-06d0-4faa-9f67-34d9500963a2",
        "part": "whole"
       },
       "id": "6ff8b1b4-9154-4199-84fa-33f9d968281a"
      },
      "83c98357-157e-4a1f-a76f-d0b396306d4f": {
       "attrs": {
        "height": 0.4,
        "width": 0.8,
        "x": 0.1,
        "y": 0.5
       },
       "content": {
        "cell": "95a06dd6-07a2-423a-929c-aa1b046c1b11",
        "part": "whole"
       },
       "id": "83c98357-157e-4a1f-a76f-d0b396306d4f"
      },
      "89109a43-a125-4b4e-b8e8-71cabc620fa0": {
       "attrs": {
        "height": 0.4,
        "width": 0.8,
        "x": 0.1,
        "y": 0.5
       },
       "content": {
        "cell": "f3c1746e-4236-45e4-9849-55133d08c7e3",
        "part": "whole"
       },
       "id": "89109a43-a125-4b4e-b8e8-71cabc620fa0"
      },
      "8a4b5f61-77a1-4a39-85d1-5e4135bff9b6": {
       "attrs": {
        "height": 0.8,
        "width": 0.8,
        "x": 0.1,
        "y": 0.1
       },
       "content": {
        "cell": "256f1747-2548-47b6-97e2-051d435a0f53",
        "part": "whole"
       },
       "id": "8a4b5f61-77a1-4a39-85d1-5e4135bff9b6"
      },
      "98659134-0c83-4e95-b77e-cc88510a3d5f": {
       "attrs": {
        "height": 0.4,
        "width": 0.8,
        "x": 0.1,
        "y": 0.5
       },
       "content": {
        "cell": "1f2dceeb-f08f-4894-8433-260956e571f2",
        "part": "whole"
       },
       "id": "98659134-0c83-4e95-b77e-cc88510a3d5f"
      },
      "c24d551b-1015-4985-ba39-09a0486542cd": {
       "attrs": {
        "height": 0.4,
        "width": 0.8,
        "x": 0.1,
        "y": 0.5
       },
       "content": {
        "cell": "a50f85b8-a51a-4555-802d-0d0822a59ad3",
        "part": "whole"
       },
       "id": "c24d551b-1015-4985-ba39-09a0486542cd"
      },
      "c2f27365-353d-4f5c-917b-c1d2a020083b": {
       "attrs": {
        "height": 0.4,
        "width": 0.8,
        "x": 0.1,
        "y": 0.5
       },
       "content": {
        "cell": "f3318c2a-024f-4294-af42-8062b373c241",
        "part": "whole"
       },
       "id": "c2f27365-353d-4f5c-917b-c1d2a020083b"
      },
      "d5067ccb-aea2-4f92-9e26-330dd4feb846": {
       "attrs": {
        "height": 0.4,
        "width": 0.8,
        "x": 0.1,
        "y": 0.5
       },
       "content": {
        "cell": "ca54d50c-3369-4261-bfcf-74f61538303e",
        "part": "whole"
       },
       "id": "d5067ccb-aea2-4f92-9e26-330dd4feb846"
      },
      "d63be773-c8c2-49d4-a849-3494dffc8fff": {
       "attrs": {
        "height": 0.4,
        "width": 0.8,
        "x": 0.1,
        "y": 0.5
       },
       "content": {
        "cell": "1cefab28-c321-423f-bbc3-8bc4018fb849",
        "part": "whole"
       },
       "id": "d63be773-c8c2-49d4-a849-3494dffc8fff"
      },
      "dca4e698-a1a3-44fb-915a-3a83cf836c45": {
       "attrs": {
        "height": 0.4,
        "width": 0.8,
        "x": 0.1,
        "y": 0.5
       },
       "content": {
        "cell": "a58156c7-8378-42b9-b05f-edc02674c066",
        "part": "whole"
       },
       "id": "dca4e698-a1a3-44fb-915a-3a83cf836c45"
      },
      "fcf73e01-ac73-49f3-88b5-8d2d9bd619b0": {
       "attrs": {
        "height": 0.4,
        "width": 0.8,
        "x": 0.1,
        "y": 0.5
       },
       "content": {
        "cell": "31e0a3fe-eedb-4467-8a34-a573daccc81f",
        "part": "whole"
       },
       "id": "fcf73e01-ac73-49f3-88b5-8d2d9bd619b0"
      },
      "fd16cd8d-0994-4db4-9703-7cf3383db640": {
       "attrs": {
        "height": 0.4,
        "width": 0.8,
        "x": 0.1,
        "y": 0.5
       },
       "content": {
        "cell": "191ab12e-9042-48dd-88b5-786615ea198d",
        "part": "whole"
       },
       "id": "fd16cd8d-0994-4db4-9703-7cf3383db640"
      }
     }
    },
    "5956f6ec-fa48-4408-a0d0-b400ebdf7c74": {
     "id": "5956f6ec-fa48-4408-a0d0-b400ebdf7c74",
     "prev": "81c6a365-dba6-437b-998a-acfa38fa7eb2",
     "regions": {
      "40efe847-64ac-41df-957b-01a13f8b9963": {
       "attrs": {
        "height": 0.8,
        "width": 0.8,
        "x": 0.1,
        "y": 0.1
       },
       "content": {
        "cell": "d52073c0-a871-4bed-aab5-77f0514d8031",
        "part": "whole"
       },
       "id": "40efe847-64ac-41df-957b-01a13f8b9963"
      },
      "d8b22093-e9b2-482b-a452-988b71602f7c": {
       "attrs": {
        "height": 0.4,
        "width": 0.8,
        "x": 0.1,
        "y": 0.5
       },
       "content": {
        "cell": "d89f0121-0c7c-4b75-8807-b4707ae468f0",
        "part": "whole"
       },
       "id": "d8b22093-e9b2-482b-a452-988b71602f7c"
      }
     }
    },
    "81c6a365-dba6-437b-998a-acfa38fa7eb2": {
     "id": "81c6a365-dba6-437b-998a-acfa38fa7eb2",
     "prev": "4cab0740-2171-470e-9e99-b5c208a46636",
     "regions": {
      "d9b320a4-9290-452a-988a-ad49c7ab9d69": {
       "attrs": {
        "height": 0.8,
        "width": 0.8,
        "x": 0.1,
        "y": 0.1
       },
       "content": {
        "cell": "44b6aa0a-4f02-42b2-8aa1-40370671ff15",
        "part": "whole"
       },
       "id": "d9b320a4-9290-452a-988a-ad49c7ab9d69"
      }
     }
    },
    "822a9439-4fd8-43b4-8faa-7fd7a4889424": {
     "id": "822a9439-4fd8-43b4-8faa-7fd7a4889424",
     "prev": "f094fd9f-677b-461e-a9f4-c1514c4974e9",
     "regions": {
      "95d4e86b-51d8-4d43-9ea9-92d76ce78d3b": {
       "attrs": {
        "height": 0.8,
        "width": 0.8,
        "x": 0.1,
        "y": 0.1
       },
       "content": {
        "cell": "adecdecf-3fae-4cbe-924a-f771e1472170",
        "part": "whole"
       },
       "id": "95d4e86b-51d8-4d43-9ea9-92d76ce78d3b"
      }
     }
    },
    "8a36bdbb-f784-456c-9c16-aa88631e0226": {
     "id": "8a36bdbb-f784-456c-9c16-aa88631e0226",
     "prev": "822a9439-4fd8-43b4-8faa-7fd7a4889424",
     "regions": {
      "ceb58d0c-5256-4b9f-b2ca-82ea6ca3dfb3": {
       "attrs": {
        "height": 0.8,
        "width": 0.8,
        "x": 0.1,
        "y": 0.1
       },
       "content": {
        "cell": "ea818d06-7843-49d1-8f41-c72400fcb45c",
        "part": "whole"
       },
       "id": "ceb58d0c-5256-4b9f-b2ca-82ea6ca3dfb3"
      }
     }
    },
    "8abe55f1-aeb9-4f3b-9647-826c3c5c5eb8": {
     "id": "8abe55f1-aeb9-4f3b-9647-826c3c5c5eb8",
     "prev": "16fa30ee-1d7e-4f43-8365-3994b6ed36a8",
     "regions": {
      "5883ca9e-a41e-4a67-a30e-41f04e672f09": {
       "attrs": {
        "height": 0.4,
        "width": 0.8,
        "x": 0.1,
        "y": 0.5
       },
       "content": {
        "cell": "7e7e0d3c-2a00-4e2d-8981-ace7238f0b97",
        "part": "whole"
       },
       "id": "5883ca9e-a41e-4a67-a30e-41f04e672f09"
      },
      "c0a83654-bc17-4e8c-96e3-858c8d695561": {
       "attrs": {
        "height": 0.8,
        "width": 0.8,
        "x": 0.1,
        "y": 0.1
       },
       "content": {
        "cell": "7dd1ca3f-a372-4072-9857-94ddbbc9ae03",
        "part": "whole"
       },
       "id": "c0a83654-bc17-4e8c-96e3-858c8d695561"
      }
     }
    },
    "aeb6875a-4ea0-45ab-abdb-2cf4daf7ad9a": {
     "id": "aeb6875a-4ea0-45ab-abdb-2cf4daf7ad9a",
     "prev": "3713f2d9-f7fb-45ee-b9c7-f54435c791e2",
     "regions": {
      "da27c6dc-1026-4e8e-8d22-fb3dea23b0e7": {
       "attrs": {
        "height": 0.8,
        "width": 0.8,
        "x": 0.1,
        "y": 0.1
       },
       "content": {
        "cell": "db66e259-97ad-42ef-a9d4-7edb1f40ab9d",
        "part": "whole"
       },
       "id": "da27c6dc-1026-4e8e-8d22-fb3dea23b0e7"
      }
     }
    },
    "b72164a6-d71e-401c-8802-bddaad80f904": {
     "id": "b72164a6-d71e-401c-8802-bddaad80f904",
     "prev": "2b0e9ac9-aade-4454-b430-35240525f60f",
     "regions": {
      "ae7f55d3-977b-4869-b73b-adcde2189c7c": {
       "attrs": {
        "height": 0.8,
        "width": 0.8,
        "x": 0.1,
        "y": 0.1
       },
       "content": {
        "cell": "0b906ef0-cb14-4024-b76c-57cc10b7c6ec",
        "part": "whole"
       },
       "id": "ae7f55d3-977b-4869-b73b-adcde2189c7c"
      }
     }
    },
    "c12efa03-d7cc-4b62-bb40-af27fa139fbb": {
     "id": "c12efa03-d7cc-4b62-bb40-af27fa139fbb",
     "prev": "b72164a6-d71e-401c-8802-bddaad80f904",
     "regions": {
      "e64b9133-8ec2-47c9-b6dd-d5ca31620485": {
       "attrs": {
        "height": 0.8,
        "width": 0.8,
        "x": 0.1,
        "y": 0.1
       },
       "content": {
        "cell": "142cbc80-7592-4584-bebe-b56b5767fa9f",
        "part": "whole"
       },
       "id": "e64b9133-8ec2-47c9-b6dd-d5ca31620485"
      }
     }
    },
    "dc8bd225-4da4-4a36-888a-63345625cfac": {
     "id": "dc8bd225-4da4-4a36-888a-63345625cfac",
     "prev": "e4b6904d-f2df-4928-bed7-38d942ebf43d",
     "regions": {
      "58717af3-8936-4361-b91a-f08fe4ac5b9f": {
       "attrs": {
        "height": 0.8,
        "width": 0.8,
        "x": 0.1,
        "y": 0.1
       },
       "content": {
        "cell": "caba240f-096b-4ab7-8695-ffd9ab9587d8",
        "part": "whole"
       },
       "id": "58717af3-8936-4361-b91a-f08fe4ac5b9f"
      }
     }
    },
    "dd65f256-4375-428d-8c7c-1336ffa82e51": {
     "id": "dd65f256-4375-428d-8c7c-1336ffa82e51",
     "prev": "f8f80794-864a-4440-9310-50b7d4ff2a38",
     "regions": {
      "52383c01-8be2-48a9-bf0c-d9e4ffbd5b02": {
       "attrs": {
        "height": 0.8,
        "width": 0.8,
        "x": 0.1,
        "y": 0.1
       },
       "content": {
        "cell": "8d8c0abd-8dee-47c3-91be-b8c1d712a6a0",
        "part": "whole"
       },
       "id": "52383c01-8be2-48a9-bf0c-d9e4ffbd5b02"
      }
     }
    },
    "e4b6904d-f2df-4928-bed7-38d942ebf43d": {
     "id": "e4b6904d-f2df-4928-bed7-38d942ebf43d",
     "prev": "f2e7b630-0d95-407c-8e98-744d36c56952",
     "regions": {
      "be607cc3-f26d-4610-84f6-0e279a1bc4ac": {
       "attrs": {
        "height": 0.8,
        "width": 0.8,
        "x": 0.1,
        "y": 0.1
       },
       "content": {
        "cell": "7638f572-4bae-4b96-adb0-1fae64570d7e",
        "part": "whole"
       },
       "id": "be607cc3-f26d-4610-84f6-0e279a1bc4ac"
      }
     }
    },
    "f094fd9f-677b-461e-a9f4-c1514c4974e9": {
     "id": "f094fd9f-677b-461e-a9f4-c1514c4974e9",
     "prev": "dc8bd225-4da4-4a36-888a-63345625cfac",
     "regions": {
      "8fab4ad5-5396-4f4d-8af7-f1879b6b8e1e": {
       "attrs": {
        "height": 0.8,
        "width": 0.8,
        "x": 0.1,
        "y": 0.1
       },
       "content": {
        "cell": "b87321af-d1fb-4087-b1c1-3416ddc3e825",
        "part": "whole"
       },
       "id": "8fab4ad5-5396-4f4d-8af7-f1879b6b8e1e"
      }
     }
    },
    "f2e7b630-0d95-407c-8e98-744d36c56952": {
     "id": "f2e7b630-0d95-407c-8e98-744d36c56952",
     "prev": "1cca9be6-223a-4a5b-9707-c9f192485ab9",
     "regions": {
      "a4dfda0d-382a-4bf1-9f84-2c8b34387f8e": {
       "attrs": {
        "height": 0.8,
        "width": 0.8,
        "x": 0.1,
        "y": 0.1
       },
       "content": {
        "cell": "7c0509c4-3df6-4249-87d6-8b033b3657ee",
        "part": "whole"
       },
       "id": "a4dfda0d-382a-4bf1-9f84-2c8b34387f8e"
      },
      "a57128af-9b92-4741-b61f-cc4cdae5b36b": {
       "attrs": {
        "height": 0.4,
        "width": 0.8,
        "x": 0.1,
        "y": 0.5
       },
       "content": {
        "cell": "dedbb0df-23b8-429b-aa79-a5ddbac3a40c",
        "part": "whole"
       },
       "id": "a57128af-9b92-4741-b61f-cc4cdae5b36b"
      },
      "ab48348e-6ba8-4a9d-982b-fc757779c7ee": {
       "attrs": {
        "height": 0.4,
        "width": 0.8,
        "x": 0.1,
        "y": 0.5
       },
       "content": {
        "cell": "3d29f057-eb27-41a6-902d-78c33d4769f7",
        "part": "whole"
       },
       "id": "ab48348e-6ba8-4a9d-982b-fc757779c7ee"
      }
     }
    },
    "f45f4adf-9269-4537-896d-2a4da0c01289": {
     "id": "f45f4adf-9269-4537-896d-2a4da0c01289",
     "prev": "aeb6875a-4ea0-45ab-abdb-2cf4daf7ad9a",
     "regions": {
      "81efb807-e109-45e8-9ddf-30eb49c89e24": {
       "attrs": {
        "height": 0.8,
        "width": 0.8,
        "x": 0.1,
        "y": 0.1
       },
       "content": {
        "cell": "14ff4504-1e30-4a47-8d6d-b514a9eb6869",
        "part": "whole"
       },
       "id": "81efb807-e109-45e8-9ddf-30eb49c89e24"
      }
     }
    },
    "f8f80794-864a-4440-9310-50b7d4ff2a38": {
     "id": "f8f80794-864a-4440-9310-50b7d4ff2a38",
     "prev": "4fc2f5c6-f0a7-4acc-a94e-9cf57c7bd2c8",
     "regions": {
      "dfb2e548-c607-4ae8-8f1e-e0ebc696986d": {
       "attrs": {
        "height": 0.8,
        "width": 0.8,
        "x": 0.1,
        "y": 0.1
       },
       "content": {
        "cell": "92b85c3a-29de-4cd2-ad18-a218b0e718b6",
        "part": "whole"
       },
       "id": "dfb2e548-c607-4ae8-8f1e-e0ebc696986d"
      }
     }
    },
    "fd14396f-871d-4acc-8bc7-0b5318ba394a": {
     "id": "fd14396f-871d-4acc-8bc7-0b5318ba394a",
     "prev": "dd65f256-4375-428d-8c7c-1336ffa82e51",
     "regions": {
      "1bc58dd5-cb9c-49ec-8d63-2ff111a76e29": {
       "attrs": {
        "height": 0.8,
        "width": 0.8,
        "x": 0.1,
        "y": 0.1
       },
       "content": {
        "cell": "ac78d922-891e-4e49-af30-9690c44456a0",
        "part": "whole"
       },
       "id": "1bc58dd5-cb9c-49ec-8d63-2ff111a76e29"
      }
     }
    }
   },
   "themes": {}
  }
 },
 "nbformat": 4,
 "nbformat_minor": 2
}
